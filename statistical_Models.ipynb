{
  "nbformat": 4,
  "nbformat_minor": 0,
  "metadata": {
    "colab": {
      "name": "regression_hack",
      "provenance": [],
      "collapsed_sections": [
        "nMl816Lwd_jB",
        "L9qSjdShlZws"
      ],
      "authorship_tag": "ABX9TyNcz1Boi15Jp2GKnKG8K03S",
      "include_colab_link": true
    },
    "kernelspec": {
      "name": "python3",
      "display_name": "Python 3"
    },
    "accelerator": "GPU"
  },
  "cells": [
    {
      "cell_type": "markdown",
      "metadata": {
        "id": "view-in-github",
        "colab_type": "text"
      },
      "source": [
        "<a href=\"https://colab.research.google.com/github/SwarajShinde/Buyers-s-Time-Prediction-Challenge/blob/main/statistical_Models.ipynb\" target=\"_parent\"><img src=\"https://colab.research.google.com/assets/colab-badge.svg\" alt=\"Open In Colab\"/></a>"
      ]
    },
    {
      "cell_type": "code",
      "metadata": {
        "id": "pmFoXUnq_ksd"
      },
      "source": [
        "import sklearn \r\n",
        "import pandas as pd\r\n",
        "import numpy as np\r\n",
        "import seaborn as sns\r\n",
        "import numpy as np\r\n",
        "import os\r\n",
        "import matplotlib.pyplot as plt\r\n",
        "%matplotlib inline\r\n"
      ],
      "execution_count": null,
      "outputs": []
    },
    {
      "cell_type": "code",
      "metadata": {
        "colab": {
          "base_uri": "https://localhost:8080/"
        },
        "id": "5K2JXUNtBiJS",
        "outputId": "10d82c8d-927c-421a-b529-d41207e32010"
      },
      "source": [
        "from google.colab import drive\r\n",
        "drive.mount('/content/drive')"
      ],
      "execution_count": null,
      "outputs": [
        {
          "output_type": "stream",
          "text": [
            "Mounted at /content/drive\n"
          ],
          "name": "stdout"
        }
      ]
    },
    {
      "cell_type": "code",
      "metadata": {
        "id": "2S80xi1NBnSa"
      },
      "source": [
        "train = pd.read_csv(\"/content/drive/MyDrive/Regress/reg_problems/ParticipantData_BTPC/Train.csv\")\r\n",
        "test = pd.read_csv(\"/content/drive/MyDrive/Regress/reg_problems/ParticipantData_BTPC/Test.csv\")\r\n",
        "sub = pd.read_csv(\"/content/drive/MyDrive/Regress/reg_problems/ParticipantData_BTPC/Sample Submission.csv\")"
      ],
      "execution_count": null,
      "outputs": []
    },
    {
      "cell_type": "code",
      "metadata": {
        "colab": {
          "base_uri": "https://localhost:8080/",
          "height": 756
        },
        "id": "IyyHdmHQCdvj",
        "outputId": "345970ef-9b06-4496-cb92-22f81a7e8447"
      },
      "source": [
        "test"
      ],
      "execution_count": null,
      "outputs": [
        {
          "output_type": "execute_result",
          "data": {
            "text/html": [
              "<div>\n",
              "<style scoped>\n",
              "    .dataframe tbody tr th:only-of-type {\n",
              "        vertical-align: middle;\n",
              "    }\n",
              "\n",
              "    .dataframe tbody tr th {\n",
              "        vertical-align: top;\n",
              "    }\n",
              "\n",
              "    .dataframe thead th {\n",
              "        text-align: right;\n",
              "    }\n",
              "</style>\n",
              "<table border=\"1\" class=\"dataframe\">\n",
              "  <thead>\n",
              "    <tr style=\"text-align: right;\">\n",
              "      <th></th>\n",
              "      <th>session_id</th>\n",
              "      <th>session_number</th>\n",
              "      <th>client_agent</th>\n",
              "      <th>device_details</th>\n",
              "      <th>date</th>\n",
              "      <th>purchased</th>\n",
              "      <th>added_in_cart</th>\n",
              "      <th>checked_out</th>\n",
              "    </tr>\n",
              "  </thead>\n",
              "  <tbody>\n",
              "    <tr>\n",
              "      <th>0</th>\n",
              "      <td>0bf72b05b2cf70dc5e28c3c09f9c4f97</td>\n",
              "      <td>99</td>\n",
              "      <td>Mozilla/5.0 (Windows NT 6.1; WOW64; Trident/7....</td>\n",
              "      <td>Desktop - IE</td>\n",
              "      <td>2020-01-07</td>\n",
              "      <td>1</td>\n",
              "      <td>0</td>\n",
              "      <td>0</td>\n",
              "    </tr>\n",
              "    <tr>\n",
              "      <th>1</th>\n",
              "      <td>6bc696d99954e4f1367e845465186aef</td>\n",
              "      <td>935</td>\n",
              "      <td>Product/160393 Android/4.3 Device/samsung_GT-I...</td>\n",
              "      <td>Android Phone - Android</td>\n",
              "      <td>2020-02-13</td>\n",
              "      <td>0</td>\n",
              "      <td>0</td>\n",
              "      <td>0</td>\n",
              "    </tr>\n",
              "    <tr>\n",
              "      <th>2</th>\n",
              "      <td>3d8611a5ea0f621d205b67f09f663a89</td>\n",
              "      <td>902</td>\n",
              "      <td>Product/4.2.2 iPhone/7.1.2</td>\n",
              "      <td>iPhone - iOS</td>\n",
              "      <td>2019-10-14</td>\n",
              "      <td>1</td>\n",
              "      <td>0</td>\n",
              "      <td>0</td>\n",
              "    </tr>\n",
              "    <tr>\n",
              "      <th>3</th>\n",
              "      <td>a0351545c032fd0da36289410c6c3354</td>\n",
              "      <td>3223</td>\n",
              "      <td>Mozilla/5.0 (compatible; MSIE 9.0; Windows NT ...</td>\n",
              "      <td>Desktop - IE</td>\n",
              "      <td>2020-01-26</td>\n",
              "      <td>0</td>\n",
              "      <td>0</td>\n",
              "      <td>0</td>\n",
              "    </tr>\n",
              "    <tr>\n",
              "      <th>4</th>\n",
              "      <td>dd8999772b0ab27225fb05e5df2f1da6</td>\n",
              "      <td>231</td>\n",
              "      <td>Mozilla/5.0 (Windows NT 6.3; WOW64) AppleWebKi...</td>\n",
              "      <td>Desktop - Chrome</td>\n",
              "      <td>2020-01-29</td>\n",
              "      <td>0</td>\n",
              "      <td>0</td>\n",
              "      <td>0</td>\n",
              "    </tr>\n",
              "    <tr>\n",
              "      <th>...</th>\n",
              "      <td>...</td>\n",
              "      <td>...</td>\n",
              "      <td>...</td>\n",
              "      <td>...</td>\n",
              "      <td>...</td>\n",
              "      <td>...</td>\n",
              "      <td>...</td>\n",
              "      <td>...</td>\n",
              "    </tr>\n",
              "    <tr>\n",
              "      <th>2322</th>\n",
              "      <td>a7ce384215acf0a0efe8e6152d6e0af3</td>\n",
              "      <td>1375</td>\n",
              "      <td>Product/244 CFNetwork/711.1.12 Darwin/14.0.0</td>\n",
              "      <td>Other - Other</td>\n",
              "      <td>2019-11-06</td>\n",
              "      <td>0</td>\n",
              "      <td>0</td>\n",
              "      <td>0</td>\n",
              "    </tr>\n",
              "    <tr>\n",
              "      <th>2323</th>\n",
              "      <td>627898fc1c329846956412487ca617b3</td>\n",
              "      <td>1617</td>\n",
              "      <td>Mozilla/5.0 (Windows NT 6.1; WOW64) AppleWebKi...</td>\n",
              "      <td>Desktop - Chrome</td>\n",
              "      <td>2020-01-18</td>\n",
              "      <td>0</td>\n",
              "      <td>1</td>\n",
              "      <td>0</td>\n",
              "    </tr>\n",
              "    <tr>\n",
              "      <th>2324</th>\n",
              "      <td>f642380795f4b57ffac8b5c4d6556765</td>\n",
              "      <td>4433</td>\n",
              "      <td>Product/4.7.0 iPhone/8.1.2</td>\n",
              "      <td>iPhone - iOS</td>\n",
              "      <td>2020-01-14</td>\n",
              "      <td>0</td>\n",
              "      <td>0</td>\n",
              "      <td>0</td>\n",
              "    </tr>\n",
              "    <tr>\n",
              "      <th>2325</th>\n",
              "      <td>298c00625e7ffef797745a866b898d3c</td>\n",
              "      <td>297</td>\n",
              "      <td>Product/4.2.2 iPad/8.0</td>\n",
              "      <td>iPad - iOS</td>\n",
              "      <td>2019-10-01</td>\n",
              "      <td>1</td>\n",
              "      <td>0</td>\n",
              "      <td>0</td>\n",
              "    </tr>\n",
              "    <tr>\n",
              "      <th>2326</th>\n",
              "      <td>22cf6e64666061ebb3442b5c83013cdd</td>\n",
              "      <td>880</td>\n",
              "      <td>Product/160432 Android/5.0 Device/LGE_LG-D855 ...</td>\n",
              "      <td>Android Phone - Android</td>\n",
              "      <td>2020-02-22</td>\n",
              "      <td>0</td>\n",
              "      <td>1</td>\n",
              "      <td>0</td>\n",
              "    </tr>\n",
              "  </tbody>\n",
              "</table>\n",
              "<p>2327 rows × 8 columns</p>\n",
              "</div>"
            ],
            "text/plain": [
              "                            session_id  ...  checked_out\n",
              "0     0bf72b05b2cf70dc5e28c3c09f9c4f97  ...            0\n",
              "1     6bc696d99954e4f1367e845465186aef  ...            0\n",
              "2     3d8611a5ea0f621d205b67f09f663a89  ...            0\n",
              "3     a0351545c032fd0da36289410c6c3354  ...            0\n",
              "4     dd8999772b0ab27225fb05e5df2f1da6  ...            0\n",
              "...                                ...  ...          ...\n",
              "2322  a7ce384215acf0a0efe8e6152d6e0af3  ...            0\n",
              "2323  627898fc1c329846956412487ca617b3  ...            0\n",
              "2324  f642380795f4b57ffac8b5c4d6556765  ...            0\n",
              "2325  298c00625e7ffef797745a866b898d3c  ...            0\n",
              "2326  22cf6e64666061ebb3442b5c83013cdd  ...            0\n",
              "\n",
              "[2327 rows x 8 columns]"
            ]
          },
          "metadata": {
            "tags": []
          },
          "execution_count": 4
        }
      ]
    },
    {
      "cell_type": "code",
      "metadata": {
        "colab": {
          "base_uri": "https://localhost:8080/"
        },
        "id": "vMWJuzmBCfaj",
        "outputId": "a86239ee-fed2-4626-e0fe-3505a66b15a5"
      },
      "source": [
        "print(train['client_agent'].isna().sum())\r\n",
        "print(train['session_id'].isna().sum())\r\n",
        "print(train['session_number'].isna().sum())\r\n",
        "print(train['device_details'].isna().sum())\r\n",
        "print(train['date'].isna().sum())\r\n"
      ],
      "execution_count": null,
      "outputs": [
        {
          "output_type": "stream",
          "text": [
            "160\n",
            "0\n",
            "0\n",
            "0\n",
            "0\n"
          ],
          "name": "stdout"
        }
      ]
    },
    {
      "cell_type": "code",
      "metadata": {
        "colab": {
          "base_uri": "https://localhost:8080/"
        },
        "id": "xw5GWRjYCrh8",
        "outputId": "448b0223-6d9f-4831-d9a8-5195c2ae34e3"
      },
      "source": [
        "train.shape"
      ],
      "execution_count": null,
      "outputs": [
        {
          "output_type": "execute_result",
          "data": {
            "text/plain": [
              "(5429, 9)"
            ]
          },
          "metadata": {
            "tags": []
          },
          "execution_count": 6
        }
      ]
    },
    {
      "cell_type": "code",
      "metadata": {
        "id": "Fkknt9mYCzZt"
      },
      "source": [
        "nan_train = train[train['client_agent'].isna()]"
      ],
      "execution_count": null,
      "outputs": []
    },
    {
      "cell_type": "code",
      "metadata": {
        "colab": {
          "base_uri": "https://localhost:8080/"
        },
        "id": "TS1JQmdcEHRw",
        "outputId": "14259b64-9dad-49f2-8d4b-a3da2d078d7b"
      },
      "source": [
        "train['device_details'].nunique()"
      ],
      "execution_count": null,
      "outputs": [
        {
          "output_type": "execute_result",
          "data": {
            "text/plain": [
              "17"
            ]
          },
          "metadata": {
            "tags": []
          },
          "execution_count": 8
        }
      ]
    },
    {
      "cell_type": "markdown",
      "metadata": {
        "id": "FCFkGYRfEQS3"
      },
      "source": [
        "## **Lets Generate a S1mple Baseline**\r\n",
        "1. Exclude the client_agent feature"
      ]
    },
    {
      "cell_type": "code",
      "metadata": {
        "id": "r90KNHOhD7Dc"
      },
      "source": [
        "train_df = train.drop('client_agent',axis=1)"
      ],
      "execution_count": null,
      "outputs": []
    },
    {
      "cell_type": "code",
      "metadata": {
        "id": "ZaY13tMEEtkj"
      },
      "source": [
        "train_df = train.drop('session_number',axis=1)"
      ],
      "execution_count": null,
      "outputs": []
    },
    {
      "cell_type": "code",
      "metadata": {
        "id": "_Zn_2J4FFwCO"
      },
      "source": [
        "train_df = train_df.drop('client_agent',axis=1)"
      ],
      "execution_count": null,
      "outputs": []
    },
    {
      "cell_type": "code",
      "metadata": {
        "colab": {
          "base_uri": "https://localhost:8080/",
          "height": 399
        },
        "id": "6agAxNW0FDr-",
        "outputId": "870154d1-59ee-4e62-c1f9-bfe8157c6d31"
      },
      "source": [
        "train_df.head(n=7)"
      ],
      "execution_count": null,
      "outputs": [
        {
          "output_type": "execute_result",
          "data": {
            "text/html": [
              "<div>\n",
              "<style scoped>\n",
              "    .dataframe tbody tr th:only-of-type {\n",
              "        vertical-align: middle;\n",
              "    }\n",
              "\n",
              "    .dataframe tbody tr th {\n",
              "        vertical-align: top;\n",
              "    }\n",
              "\n",
              "    .dataframe thead th {\n",
              "        text-align: right;\n",
              "    }\n",
              "</style>\n",
              "<table border=\"1\" class=\"dataframe\">\n",
              "  <thead>\n",
              "    <tr style=\"text-align: right;\">\n",
              "      <th></th>\n",
              "      <th>session_id</th>\n",
              "      <th>device_details</th>\n",
              "      <th>date</th>\n",
              "      <th>purchased</th>\n",
              "      <th>added_in_cart</th>\n",
              "      <th>checked_out</th>\n",
              "      <th>time_spent</th>\n",
              "    </tr>\n",
              "  </thead>\n",
              "  <tbody>\n",
              "    <tr>\n",
              "      <th>0</th>\n",
              "      <td>57f879e70d3c5fc2a98102d64c9fd84e</td>\n",
              "      <td>Desktop - Chrome</td>\n",
              "      <td>2020-01-22</td>\n",
              "      <td>1</td>\n",
              "      <td>0</td>\n",
              "      <td>0</td>\n",
              "      <td>236.886</td>\n",
              "    </tr>\n",
              "    <tr>\n",
              "      <th>1</th>\n",
              "      <td>a5442b0c7c33d0a811e7661e556b2de8</td>\n",
              "      <td>iPhone - iOS</td>\n",
              "      <td>2020-02-27</td>\n",
              "      <td>1</td>\n",
              "      <td>0</td>\n",
              "      <td>0</td>\n",
              "      <td>1277.455</td>\n",
              "    </tr>\n",
              "    <tr>\n",
              "      <th>2</th>\n",
              "      <td>305cb1486ed8610c00b37007926cb2c4</td>\n",
              "      <td>iPhone - MobileWeb</td>\n",
              "      <td>2019-08-01</td>\n",
              "      <td>0</td>\n",
              "      <td>0</td>\n",
              "      <td>0</td>\n",
              "      <td>21.704</td>\n",
              "    </tr>\n",
              "    <tr>\n",
              "      <th>3</th>\n",
              "      <td>f2c1ecc9993f0071df91ba178450498c</td>\n",
              "      <td>Desktop - IE</td>\n",
              "      <td>2019-12-30</td>\n",
              "      <td>0</td>\n",
              "      <td>1</td>\n",
              "      <td>0</td>\n",
              "      <td>455.201</td>\n",
              "    </tr>\n",
              "    <tr>\n",
              "      <th>4</th>\n",
              "      <td>e460830ae295e55d2216ebdc761ab9a6</td>\n",
              "      <td>iPhone - Web</td>\n",
              "      <td>2019-09-10</td>\n",
              "      <td>0</td>\n",
              "      <td>0</td>\n",
              "      <td>0</td>\n",
              "      <td>1164.877</td>\n",
              "    </tr>\n",
              "    <tr>\n",
              "      <th>5</th>\n",
              "      <td>b4ae55a4553d43697dcf64b66033677b</td>\n",
              "      <td>Android Phone - Android</td>\n",
              "      <td>2020-02-06</td>\n",
              "      <td>0</td>\n",
              "      <td>1</td>\n",
              "      <td>0</td>\n",
              "      <td>6010.343</td>\n",
              "    </tr>\n",
              "    <tr>\n",
              "      <th>6</th>\n",
              "      <td>a17491477ea11e951286f583b3095899</td>\n",
              "      <td>Desktop - Firefox</td>\n",
              "      <td>2019-05-30</td>\n",
              "      <td>1</td>\n",
              "      <td>1</td>\n",
              "      <td>1</td>\n",
              "      <td>8471.435</td>\n",
              "    </tr>\n",
              "  </tbody>\n",
              "</table>\n",
              "</div>"
            ],
            "text/plain": [
              "                         session_id  ... time_spent\n",
              "0  57f879e70d3c5fc2a98102d64c9fd84e  ...    236.886\n",
              "1  a5442b0c7c33d0a811e7661e556b2de8  ...   1277.455\n",
              "2  305cb1486ed8610c00b37007926cb2c4  ...     21.704\n",
              "3  f2c1ecc9993f0071df91ba178450498c  ...    455.201\n",
              "4  e460830ae295e55d2216ebdc761ab9a6  ...   1164.877\n",
              "5  b4ae55a4553d43697dcf64b66033677b  ...   6010.343\n",
              "6  a17491477ea11e951286f583b3095899  ...   8471.435\n",
              "\n",
              "[7 rows x 7 columns]"
            ]
          },
          "metadata": {
            "tags": []
          },
          "execution_count": 12
        }
      ]
    },
    {
      "cell_type": "code",
      "metadata": {
        "id": "Yda-R4WhFZLa"
      },
      "source": [
        "from sklearn.preprocessing import LabelEncoder\r\n",
        "lbl=LabelEncoder()"
      ],
      "execution_count": null,
      "outputs": []
    },
    {
      "cell_type": "code",
      "metadata": {
        "id": "ndkxEMI2Gk2E"
      },
      "source": [
        "train_df['device_details'] = lbl.fit_transform(train_df['device_details'])"
      ],
      "execution_count": null,
      "outputs": []
    },
    {
      "cell_type": "code",
      "metadata": {
        "colab": {
          "base_uri": "https://localhost:8080/",
          "height": 198
        },
        "id": "LC7RvsLwGrXL",
        "outputId": "70ce9360-8efe-4163-e808-6c4ffff4f021"
      },
      "source": [
        "train_df.head()"
      ],
      "execution_count": null,
      "outputs": [
        {
          "output_type": "execute_result",
          "data": {
            "text/html": [
              "<div>\n",
              "<style scoped>\n",
              "    .dataframe tbody tr th:only-of-type {\n",
              "        vertical-align: middle;\n",
              "    }\n",
              "\n",
              "    .dataframe tbody tr th {\n",
              "        vertical-align: top;\n",
              "    }\n",
              "\n",
              "    .dataframe thead th {\n",
              "        text-align: right;\n",
              "    }\n",
              "</style>\n",
              "<table border=\"1\" class=\"dataframe\">\n",
              "  <thead>\n",
              "    <tr style=\"text-align: right;\">\n",
              "      <th></th>\n",
              "      <th>session_id</th>\n",
              "      <th>device_details</th>\n",
              "      <th>date</th>\n",
              "      <th>purchased</th>\n",
              "      <th>added_in_cart</th>\n",
              "      <th>checked_out</th>\n",
              "      <th>time_spent</th>\n",
              "    </tr>\n",
              "  </thead>\n",
              "  <tbody>\n",
              "    <tr>\n",
              "      <th>0</th>\n",
              "      <td>57f879e70d3c5fc2a98102d64c9fd84e</td>\n",
              "      <td>6</td>\n",
              "      <td>2020-01-22</td>\n",
              "      <td>1</td>\n",
              "      <td>0</td>\n",
              "      <td>0</td>\n",
              "      <td>236.886</td>\n",
              "    </tr>\n",
              "    <tr>\n",
              "      <th>1</th>\n",
              "      <td>a5442b0c7c33d0a811e7661e556b2de8</td>\n",
              "      <td>16</td>\n",
              "      <td>2020-02-27</td>\n",
              "      <td>1</td>\n",
              "      <td>0</td>\n",
              "      <td>0</td>\n",
              "      <td>1277.455</td>\n",
              "    </tr>\n",
              "    <tr>\n",
              "      <th>2</th>\n",
              "      <td>305cb1486ed8610c00b37007926cb2c4</td>\n",
              "      <td>14</td>\n",
              "      <td>2019-08-01</td>\n",
              "      <td>0</td>\n",
              "      <td>0</td>\n",
              "      <td>0</td>\n",
              "      <td>21.704</td>\n",
              "    </tr>\n",
              "    <tr>\n",
              "      <th>3</th>\n",
              "      <td>f2c1ecc9993f0071df91ba178450498c</td>\n",
              "      <td>8</td>\n",
              "      <td>2019-12-30</td>\n",
              "      <td>0</td>\n",
              "      <td>1</td>\n",
              "      <td>0</td>\n",
              "      <td>455.201</td>\n",
              "    </tr>\n",
              "    <tr>\n",
              "      <th>4</th>\n",
              "      <td>e460830ae295e55d2216ebdc761ab9a6</td>\n",
              "      <td>15</td>\n",
              "      <td>2019-09-10</td>\n",
              "      <td>0</td>\n",
              "      <td>0</td>\n",
              "      <td>0</td>\n",
              "      <td>1164.877</td>\n",
              "    </tr>\n",
              "  </tbody>\n",
              "</table>\n",
              "</div>"
            ],
            "text/plain": [
              "                         session_id  device_details  ... checked_out  time_spent\n",
              "0  57f879e70d3c5fc2a98102d64c9fd84e               6  ...           0     236.886\n",
              "1  a5442b0c7c33d0a811e7661e556b2de8              16  ...           0    1277.455\n",
              "2  305cb1486ed8610c00b37007926cb2c4              14  ...           0      21.704\n",
              "3  f2c1ecc9993f0071df91ba178450498c               8  ...           0     455.201\n",
              "4  e460830ae295e55d2216ebdc761ab9a6              15  ...           0    1164.877\n",
              "\n",
              "[5 rows x 7 columns]"
            ]
          },
          "metadata": {
            "tags": []
          },
          "execution_count": 15
        }
      ]
    },
    {
      "cell_type": "code",
      "metadata": {
        "id": "JIaNho1pHU5u"
      },
      "source": [
        "from sklearn.metrics import mean_squared_log_error"
      ],
      "execution_count": null,
      "outputs": []
    },
    {
      "cell_type": "code",
      "metadata": {
        "id": "e8ezipWFH19g"
      },
      "source": [
        "def metric(true_vals,preds):\r\n",
        "    return np.sqrt(mean_squared_log_error(true_vals,preds))"
      ],
      "execution_count": null,
      "outputs": []
    },
    {
      "cell_type": "code",
      "metadata": {
        "id": "k-JOaZ21Jn74"
      },
      "source": [
        "from sklearn.linear_model import LinearRegression"
      ],
      "execution_count": null,
      "outputs": []
    },
    {
      "cell_type": "code",
      "metadata": {
        "id": "bHWh34EJJz5w"
      },
      "source": [
        "model=LinearRegression()"
      ],
      "execution_count": null,
      "outputs": []
    },
    {
      "cell_type": "code",
      "metadata": {
        "id": "Vz_Z08JWBQI2"
      },
      "source": [
        "# Create Cross Validation Score:\r\n",
        "from sklearn.model_selection import train_test_split\r\n",
        "train_,val_ = train_test_split(train_df,test_size=0.1,random_state=25)"
      ],
      "execution_count": null,
      "outputs": []
    },
    {
      "cell_type": "code",
      "metadata": {
        "colab": {
          "base_uri": "https://localhost:8080/"
        },
        "id": "q30Le3K8CA8S",
        "outputId": "fd2803fb-4d8d-470b-a83c-9a56b5102450"
      },
      "source": [
        "print(train_.shape,val_.shape)"
      ],
      "execution_count": null,
      "outputs": [
        {
          "output_type": "stream",
          "text": [
            "(4886, 7) (543, 7)\n"
          ],
          "name": "stdout"
        }
      ]
    },
    {
      "cell_type": "code",
      "metadata": {
        "id": "ICnW519BJ5rn"
      },
      "source": [
        "feats=train_[['device_details','purchased','added_in_cart','checked_out']]\r\n",
        "vals=train_['time_spent']"
      ],
      "execution_count": null,
      "outputs": []
    },
    {
      "cell_type": "code",
      "metadata": {
        "colab": {
          "base_uri": "https://localhost:8080/"
        },
        "id": "iP2OQ3NZL9Is",
        "outputId": "13851802-7b98-4051-8fd2-8d0896ab3403"
      },
      "source": [
        "model.fit(X=feats,y=vals)"
      ],
      "execution_count": null,
      "outputs": [
        {
          "output_type": "execute_result",
          "data": {
            "text/plain": [
              "LinearRegression(copy_X=True, fit_intercept=True, n_jobs=None, normalize=False)"
            ]
          },
          "metadata": {
            "tags": []
          },
          "execution_count": 150
        }
      ]
    },
    {
      "cell_type": "code",
      "metadata": {
        "id": "CzJmopjuCdQv"
      },
      "source": [
        "val_features=val_[['device_details','purchased','added_in_cart','checked_out']]\r\n",
        "val_tars = val_['time_spent']"
      ],
      "execution_count": null,
      "outputs": []
    },
    {
      "cell_type": "code",
      "metadata": {
        "id": "P7MtMDeOCP5f"
      },
      "source": [
        "val_preds=model.predict(X=val_features)"
      ],
      "execution_count": null,
      "outputs": []
    },
    {
      "cell_type": "code",
      "metadata": {
        "colab": {
          "base_uri": "https://localhost:8080/"
        },
        "id": "jzBCiCyLCpr3",
        "outputId": "f505d9a6-584e-45ce-c159-3f6ac1c2c4a1"
      },
      "source": [
        "metric(val_tars,val_preds)"
      ],
      "execution_count": null,
      "outputs": [
        {
          "output_type": "execute_result",
          "data": {
            "text/plain": [
              "2.078346113743301"
            ]
          },
          "metadata": {
            "tags": []
          },
          "execution_count": 153
        }
      ]
    },
    {
      "cell_type": "markdown",
      "metadata": {
        "id": "AKXuy_BNDEr_"
      },
      "source": [
        "#Lets Try out new Model Architechtures"
      ]
    },
    {
      "cell_type": "code",
      "metadata": {
        "id": "QJEHBbQyDKfN"
      },
      "source": [
        "from sklearn import linear_model\r\n",
        "model1 = linear_model.Lasso(alpha=0.1)"
      ],
      "execution_count": null,
      "outputs": []
    },
    {
      "cell_type": "code",
      "metadata": {
        "id": "zHq7Igd1EEpz"
      },
      "source": [
        "model1.fit(X=feats,y=vals)\r\n",
        "val_preds1=model1.predict(X=val_features)"
      ],
      "execution_count": null,
      "outputs": []
    },
    {
      "cell_type": "code",
      "metadata": {
        "colab": {
          "base_uri": "https://localhost:8080/"
        },
        "id": "5CHpaiPuERMJ",
        "outputId": "632d7017-68ea-4f2e-ef67-269f0c5249c8"
      },
      "source": [
        "metric(val_tars,val_preds1)"
      ],
      "execution_count": null,
      "outputs": [
        {
          "output_type": "execute_result",
          "data": {
            "text/plain": [
              "2.078636560313991"
            ]
          },
          "metadata": {
            "tags": []
          },
          "execution_count": 156
        }
      ]
    },
    {
      "cell_type": "code",
      "metadata": {
        "id": "pAItm6VEccWq"
      },
      "source": [
        "from sklearn.svm import SVR\r\n",
        "model2=SVR(C=1.0,epsilon=0.2)\r\n"
      ],
      "execution_count": null,
      "outputs": []
    },
    {
      "cell_type": "code",
      "metadata": {
        "id": "t3H4fgtbcpMX"
      },
      "source": [
        "model2.fit(X=feats,y=vals)\r\n",
        "val_preds2 = model2.predict(X=val_features)\r\n"
      ],
      "execution_count": null,
      "outputs": []
    },
    {
      "cell_type": "code",
      "metadata": {
        "colab": {
          "base_uri": "https://localhost:8080/"
        },
        "id": "PoTsm5Asc25G",
        "outputId": "723ddc89-1dc3-4726-9ad2-91dd85b50d1b"
      },
      "source": [
        "print(val_preds2[0],val_preds1[0],val_preds[0])"
      ],
      "execution_count": null,
      "outputs": [
        {
          "output_type": "stream",
          "text": [
            "153.47758325029844 302.156290596448 301.8460769252589\n"
          ],
          "name": "stdout"
        }
      ]
    },
    {
      "cell_type": "code",
      "metadata": {
        "colab": {
          "base_uri": "https://localhost:8080/"
        },
        "id": "dyGto1ZAcyBw",
        "outputId": "dca92c15-b7cf-42b4-e63d-f133b4b303fb"
      },
      "source": [
        "metric(val_tars,val_preds2)\r\n",
        "# Actual LB Score : 1.85203"
      ],
      "execution_count": null,
      "outputs": [
        {
          "output_type": "execute_result",
          "data": {
            "text/plain": [
              "1.7766825690199008"
            ]
          },
          "metadata": {
            "tags": []
          },
          "execution_count": 160
        }
      ]
    },
    {
      "cell_type": "markdown",
      "metadata": {
        "id": "0mbUIUQHE3Xv"
      },
      "source": [
        "# Lets keep the Model the basic one (linear reg) :\r\n",
        "1. Use the features that were skipped at first \r\n",
        "2. also we can use date if poosible"
      ]
    },
    {
      "cell_type": "markdown",
      "metadata": {
        "id": "qziemKN-CQhY"
      },
      "source": [
        "#Test and Submission Part"
      ]
    },
    {
      "cell_type": "code",
      "metadata": {
        "id": "cj0_NzzOMu7d",
        "colab": {
          "base_uri": "https://localhost:8080/",
          "height": 383
        },
        "outputId": "854527c0-32cc-4984-97f9-eddaca03708a"
      },
      "source": [
        "test['device_details'] = lbl.transform(test['device_details'])"
      ],
      "execution_count": null,
      "outputs": [
        {
          "output_type": "stream",
          "text": [
            "/usr/local/lib/python3.6/dist-packages/numpy/lib/arraysetops.py:576: FutureWarning: elementwise comparison failed; returning scalar instead, but in the future will perform elementwise comparison\n",
            "  mask &= (ar1 != a)\n"
          ],
          "name": "stderr"
        },
        {
          "output_type": "error",
          "ename": "ValueError",
          "evalue": "ignored",
          "traceback": [
            "\u001b[0;31m---------------------------------------------------------------------------\u001b[0m",
            "\u001b[0;31mValueError\u001b[0m                                Traceback (most recent call last)",
            "\u001b[0;32m<ipython-input-120-c4b7b8e76e4f>\u001b[0m in \u001b[0;36m<module>\u001b[0;34m()\u001b[0m\n\u001b[0;32m----> 1\u001b[0;31m \u001b[0mtest\u001b[0m\u001b[0;34m[\u001b[0m\u001b[0;34m'device_details'\u001b[0m\u001b[0;34m]\u001b[0m \u001b[0;34m=\u001b[0m \u001b[0mlbl\u001b[0m\u001b[0;34m.\u001b[0m\u001b[0mtransform\u001b[0m\u001b[0;34m(\u001b[0m\u001b[0mtest\u001b[0m\u001b[0;34m[\u001b[0m\u001b[0;34m'device_details'\u001b[0m\u001b[0;34m]\u001b[0m\u001b[0;34m)\u001b[0m\u001b[0;34m\u001b[0m\u001b[0;34m\u001b[0m\u001b[0m\n\u001b[0m",
            "\u001b[0;32m/usr/local/lib/python3.6/dist-packages/sklearn/preprocessing/_label.py\u001b[0m in \u001b[0;36mtransform\u001b[0;34m(self, y)\u001b[0m\n\u001b[1;32m    271\u001b[0m             \u001b[0;32mreturn\u001b[0m \u001b[0mnp\u001b[0m\u001b[0;34m.\u001b[0m\u001b[0marray\u001b[0m\u001b[0;34m(\u001b[0m\u001b[0;34m[\u001b[0m\u001b[0;34m]\u001b[0m\u001b[0;34m)\u001b[0m\u001b[0;34m\u001b[0m\u001b[0;34m\u001b[0m\u001b[0m\n\u001b[1;32m    272\u001b[0m \u001b[0;34m\u001b[0m\u001b[0m\n\u001b[0;32m--> 273\u001b[0;31m         \u001b[0m_\u001b[0m\u001b[0;34m,\u001b[0m \u001b[0my\u001b[0m \u001b[0;34m=\u001b[0m \u001b[0m_encode\u001b[0m\u001b[0;34m(\u001b[0m\u001b[0my\u001b[0m\u001b[0;34m,\u001b[0m \u001b[0muniques\u001b[0m\u001b[0;34m=\u001b[0m\u001b[0mself\u001b[0m\u001b[0;34m.\u001b[0m\u001b[0mclasses_\u001b[0m\u001b[0;34m,\u001b[0m \u001b[0mencode\u001b[0m\u001b[0;34m=\u001b[0m\u001b[0;32mTrue\u001b[0m\u001b[0;34m)\u001b[0m\u001b[0;34m\u001b[0m\u001b[0;34m\u001b[0m\u001b[0m\n\u001b[0m\u001b[1;32m    274\u001b[0m         \u001b[0;32mreturn\u001b[0m \u001b[0my\u001b[0m\u001b[0;34m\u001b[0m\u001b[0;34m\u001b[0m\u001b[0m\n\u001b[1;32m    275\u001b[0m \u001b[0;34m\u001b[0m\u001b[0m\n",
            "\u001b[0;32m/usr/local/lib/python3.6/dist-packages/sklearn/preprocessing/_label.py\u001b[0m in \u001b[0;36m_encode\u001b[0;34m(values, uniques, encode, check_unknown)\u001b[0m\n\u001b[1;32m    116\u001b[0m     \u001b[0;32melse\u001b[0m\u001b[0;34m:\u001b[0m\u001b[0;34m\u001b[0m\u001b[0;34m\u001b[0m\u001b[0m\n\u001b[1;32m    117\u001b[0m         return _encode_numpy(values, uniques, encode,\n\u001b[0;32m--> 118\u001b[0;31m                              check_unknown=check_unknown)\n\u001b[0m\u001b[1;32m    119\u001b[0m \u001b[0;34m\u001b[0m\u001b[0m\n\u001b[1;32m    120\u001b[0m \u001b[0;34m\u001b[0m\u001b[0m\n",
            "\u001b[0;32m/usr/local/lib/python3.6/dist-packages/sklearn/preprocessing/_label.py\u001b[0m in \u001b[0;36m_encode_numpy\u001b[0;34m(values, uniques, encode, check_unknown)\u001b[0m\n\u001b[1;32m     48\u001b[0m             \u001b[0;32mif\u001b[0m \u001b[0mdiff\u001b[0m\u001b[0;34m:\u001b[0m\u001b[0;34m\u001b[0m\u001b[0;34m\u001b[0m\u001b[0m\n\u001b[1;32m     49\u001b[0m                 raise ValueError(\"y contains previously unseen labels: %s\"\n\u001b[0;32m---> 50\u001b[0;31m                                  % str(diff))\n\u001b[0m\u001b[1;32m     51\u001b[0m         \u001b[0mencoded\u001b[0m \u001b[0;34m=\u001b[0m \u001b[0mnp\u001b[0m\u001b[0;34m.\u001b[0m\u001b[0msearchsorted\u001b[0m\u001b[0;34m(\u001b[0m\u001b[0muniques\u001b[0m\u001b[0;34m,\u001b[0m \u001b[0mvalues\u001b[0m\u001b[0;34m)\u001b[0m\u001b[0;34m\u001b[0m\u001b[0;34m\u001b[0m\u001b[0m\n\u001b[1;32m     52\u001b[0m         \u001b[0;32mreturn\u001b[0m \u001b[0muniques\u001b[0m\u001b[0;34m,\u001b[0m \u001b[0mencoded\u001b[0m\u001b[0;34m\u001b[0m\u001b[0;34m\u001b[0m\u001b[0m\n",
            "\u001b[0;31mValueError\u001b[0m: y contains previously unseen labels: [0, 1, 2, 3, 5, 6, 7, 8, 9, 10, 11, 12, 13, 14, 15, 16]"
          ]
        }
      ]
    },
    {
      "cell_type": "code",
      "metadata": {
        "id": "gjOQYRaDL_nc"
      },
      "source": [
        "dev_det = train_df['device_details'].unique()\r\n",
        "test_det=test['device_details'].unique()"
      ],
      "execution_count": null,
      "outputs": []
    },
    {
      "cell_type": "code",
      "metadata": {
        "colab": {
          "base_uri": "https://localhost:8080/"
        },
        "id": "339RVbgvMO13",
        "outputId": "cfe6d116-cbf2-47bb-f3b5-54f0d70dc564"
      },
      "source": [
        "print(sorted(dev_det))\r\n",
        "print(sorted(test_det))"
      ],
      "execution_count": null,
      "outputs": [
        {
          "output_type": "stream",
          "text": [
            "[0, 1, 2, 3, 4, 5, 6, 7, 8, 9, 10, 11, 12, 13, 14, 15, 16]\n",
            "[0, 1, 2, 3, 5, 6, 7, 8, 9, 10, 11, 12, 13, 14, 15, 16]\n"
          ],
          "name": "stdout"
        }
      ]
    },
    {
      "cell_type": "code",
      "metadata": {
        "id": "p7Ac6-weMioh"
      },
      "source": [
        "test_feats=test[['device_details','purchased','added_in_cart','checked_out']]\r\n"
      ],
      "execution_count": null,
      "outputs": []
    },
    {
      "cell_type": "code",
      "metadata": {
        "id": "XDuDF1R5NL1G"
      },
      "source": [
        "y_preds=model4.predict(X=test_feats)"
      ],
      "execution_count": null,
      "outputs": []
    },
    {
      "cell_type": "code",
      "metadata": {
        "colab": {
          "base_uri": "https://localhost:8080/"
        },
        "id": "d8fX1IxuNPPS",
        "outputId": "c366729f-5288-4ae4-bfe8-3d41c0b3655e"
      },
      "source": [
        "y_preds.shape"
      ],
      "execution_count": null,
      "outputs": [
        {
          "output_type": "execute_result",
          "data": {
            "text/plain": [
              "(2327,)"
            ]
          },
          "metadata": {
            "tags": []
          },
          "execution_count": 192
        }
      ]
    },
    {
      "cell_type": "code",
      "metadata": {
        "colab": {
          "base_uri": "https://localhost:8080/"
        },
        "id": "YzTt2b8kNQcn",
        "outputId": "42ee2e36-a402-4ea8-f5ca-b2a49eb1a0d8"
      },
      "source": [
        "test.shape"
      ],
      "execution_count": null,
      "outputs": [
        {
          "output_type": "execute_result",
          "data": {
            "text/plain": [
              "(2327, 8)"
            ]
          },
          "metadata": {
            "tags": []
          },
          "execution_count": 193
        }
      ]
    },
    {
      "cell_type": "code",
      "metadata": {
        "id": "yCcsfQhlNTjW"
      },
      "source": [
        "sub['time_spent'] = y_preds"
      ],
      "execution_count": null,
      "outputs": []
    },
    {
      "cell_type": "code",
      "metadata": {
        "colab": {
          "base_uri": "https://localhost:8080/",
          "height": 108
        },
        "id": "SToT7wOWNXdI",
        "outputId": "e5d539de-072b-4fed-cd3d-d0511bcf775f"
      },
      "source": [
        "sub.head(n=2)"
      ],
      "execution_count": null,
      "outputs": [
        {
          "output_type": "execute_result",
          "data": {
            "text/html": [
              "<div>\n",
              "<style scoped>\n",
              "    .dataframe tbody tr th:only-of-type {\n",
              "        vertical-align: middle;\n",
              "    }\n",
              "\n",
              "    .dataframe tbody tr th {\n",
              "        vertical-align: top;\n",
              "    }\n",
              "\n",
              "    .dataframe thead th {\n",
              "        text-align: right;\n",
              "    }\n",
              "</style>\n",
              "<table border=\"1\" class=\"dataframe\">\n",
              "  <thead>\n",
              "    <tr style=\"text-align: right;\">\n",
              "      <th></th>\n",
              "      <th>time_spent</th>\n",
              "    </tr>\n",
              "  </thead>\n",
              "  <tbody>\n",
              "    <tr>\n",
              "      <th>0</th>\n",
              "      <td>473.770329</td>\n",
              "    </tr>\n",
              "    <tr>\n",
              "      <th>1</th>\n",
              "      <td>121.932742</td>\n",
              "    </tr>\n",
              "  </tbody>\n",
              "</table>\n",
              "</div>"
            ],
            "text/plain": [
              "   time_spent\n",
              "0  473.770329\n",
              "1  121.932742"
            ]
          },
          "metadata": {
            "tags": []
          },
          "execution_count": 195
        }
      ]
    },
    {
      "cell_type": "code",
      "metadata": {
        "id": "sUCQ0fORNrAv"
      },
      "source": [
        "sub.to_csv('today2.csv', index=False)\r\n"
      ],
      "execution_count": null,
      "outputs": []
    },
    {
      "cell_type": "markdown",
      "metadata": {
        "id": "nMl816Lwd_jB"
      },
      "source": [
        "# Lets FIND Good Hyperparamets using Grid/Random search CV\r\n",
        "1. Also use Cross-Validation"
      ]
    },
    {
      "cell_type": "code",
      "metadata": {
        "id": "Lrx6qqefNvX_"
      },
      "source": [
        "from sklearn.model_selection import RandomizedSearchCV,GridSearchCV"
      ],
      "execution_count": null,
      "outputs": []
    },
    {
      "cell_type": "code",
      "metadata": {
        "id": "Ra45wPKLeXD7"
      },
      "source": [
        "param_grid = {'C': [0.1, 1, 10, 100, 1000],  \r\n",
        "              'gamma': [1, 0.1, 0.01, 0.001, 0.0001], \r\n",
        "              'kernel': ['rbf']} "
      ],
      "execution_count": null,
      "outputs": []
    },
    {
      "cell_type": "code",
      "metadata": {
        "id": "i_Eg_S-_gHzr"
      },
      "source": [
        "grid=GridSearchCV(model2,param_grid,refit=True,verbose=3)\r\n",
        "grid.fit(X=feats,y=vals)"
      ],
      "execution_count": null,
      "outputs": []
    },
    {
      "cell_type": "code",
      "metadata": {
        "colab": {
          "base_uri": "https://localhost:8080/"
        },
        "id": "E1qf-xWcgkVN",
        "outputId": "22af8de0-8b88-44f7-ddcc-e60b19c6819e"
      },
      "source": [
        "grid.best_params_"
      ],
      "execution_count": null,
      "outputs": [
        {
          "output_type": "execute_result",
          "data": {
            "text/plain": [
              "{'C': 1000, 'gamma': 1, 'kernel': 'rbf'}"
            ]
          },
          "metadata": {
            "tags": []
          },
          "execution_count": 67
        }
      ]
    },
    {
      "cell_type": "code",
      "metadata": {
        "id": "9sjeyl_NiaMP"
      },
      "source": [
        "model4 = SVR(C=10, cache_size=200, coef0=0.0, degree=3, epsilon=0.2, gamma=1,kernel='rbf', max_iter=-1, shrinking=True, tol=0.001, verbose=False)\r\n",
        "model4.fit(X=feats,y=vals)\r\n",
        "val_preds4 = model4.predict(X=val_features)\r\n"
      ],
      "execution_count": null,
      "outputs": []
    },
    {
      "cell_type": "code",
      "metadata": {
        "colab": {
          "base_uri": "https://localhost:8080/"
        },
        "id": "MQ0KCIQRtue5",
        "outputId": "81d1c10a-3502-4297-e2a8-1abc12dc0480"
      },
      "source": [
        "print(metric(val_tars,val_preds4))\r\n"
      ],
      "execution_count": null,
      "outputs": [
        {
          "output_type": "stream",
          "text": [
            "1.4721162984555771\n"
          ],
          "name": "stdout"
        }
      ]
    },
    {
      "cell_type": "markdown",
      "metadata": {
        "id": "L9qSjdShlZws"
      },
      "source": [
        "# ROUGH Enseble based on sub2,sub4"
      ]
    },
    {
      "cell_type": "code",
      "metadata": {
        "id": "yaPkGmaanBqW"
      },
      "source": [
        "from sklearn.svm import SVR\r\n",
        "model_svm_1=SVR(C=1000,epsilon=0.2,kernel='poly')\r\n"
      ],
      "execution_count": null,
      "outputs": []
    },
    {
      "cell_type": "code",
      "metadata": {
        "id": "V58IIjYVoj1Q"
      },
      "source": [
        "model_svm_1.fit(X=feats,y=vals)\r\n",
        "svm_preds = model_svm_1.predict(X=val_features)\r\n"
      ],
      "execution_count": null,
      "outputs": []
    },
    {
      "cell_type": "code",
      "metadata": {
        "colab": {
          "base_uri": "https://localhost:8080/"
        },
        "id": "DKHBI8NZpAmV",
        "outputId": "4069153d-505e-4111-ce7e-1e3fc49439c2"
      },
      "source": [
        "metric(val_tars,svm_preds)"
      ],
      "execution_count": null,
      "outputs": [
        {
          "output_type": "execute_result",
          "data": {
            "text/plain": [
              "1.6087560310407845"
            ]
          },
          "metadata": {
            "tags": []
          },
          "execution_count": 165
        }
      ]
    },
    {
      "cell_type": "code",
      "metadata": {
        "id": "ldwYn6c7pEVf"
      },
      "source": [
        "svm_test_preds2 = model_svm_1.predict(X=test_feats)"
      ],
      "execution_count": null,
      "outputs": []
    },
    {
      "cell_type": "code",
      "metadata": {
        "colab": {
          "base_uri": "https://localhost:8080/"
        },
        "id": "LuOFIEEIpumG",
        "outputId": "05e4f6c7-83af-4182-dcb0-c4f71b01786a"
      },
      "source": [
        "svm_test_preds2[10:15]"
      ],
      "execution_count": null,
      "outputs": [
        {
          "output_type": "execute_result",
          "data": {
            "text/plain": [
              "array([128.90243534, 107.82956949,  53.65640857, 112.45828893,\n",
              "       112.45828893])"
            ]
          },
          "metadata": {
            "tags": []
          },
          "execution_count": 167
        }
      ]
    },
    {
      "cell_type": "code",
      "metadata": {
        "id": "gR4SOVbZp0yZ"
      },
      "source": [
        "pred1=pd.read_csv(\"/content/my_submission_file2.csv\")\r\n",
        "pred2 = pd.read_csv(\"/content/today.csv\")"
      ],
      "execution_count": null,
      "outputs": []
    },
    {
      "cell_type": "code",
      "metadata": {
        "id": "xGoKDAGFx0Wk"
      },
      "source": [
        "pred = pred1['time_spent']+pred2['time_spent']"
      ],
      "execution_count": null,
      "outputs": []
    },
    {
      "cell_type": "code",
      "metadata": {
        "id": "LkKHdyQXx5Nj"
      },
      "source": [
        "sub['time_spent'] = pred/2"
      ],
      "execution_count": null,
      "outputs": []
    },
    {
      "cell_type": "code",
      "metadata": {
        "id": "sx8FdWi_yJbt"
      },
      "source": [
        "sub.to_csv('min_ens_22.csv',index=False)"
      ],
      "execution_count": null,
      "outputs": []
    },
    {
      "cell_type": "code",
      "metadata": {
        "id": "l6xSEvfpyc7s"
      },
      "source": [
        "ress = pd.read_csv(\"/content/sample_submission.csv\")"
      ],
      "execution_count": null,
      "outputs": []
    },
    {
      "cell_type": "code",
      "metadata": {
        "id": "tvyMGQdBlENr"
      },
      "source": [
        "val_preds=val_preds2+val_preds4+svm_preds"
      ],
      "execution_count": null,
      "outputs": []
    },
    {
      "cell_type": "code",
      "metadata": {
        "colab": {
          "base_uri": "https://localhost:8080/"
        },
        "id": "dCnYFZTfl8U5",
        "outputId": "2ee03346-9dfd-4e6b-a99b-0e1c4194bfa6"
      },
      "source": [
        "val_preds[1]"
      ],
      "execution_count": null,
      "outputs": [
        {
          "output_type": "execute_result",
          "data": {
            "text/plain": [
              "142.57824571782248"
            ]
          },
          "metadata": {
            "tags": []
          },
          "execution_count": 175
        }
      ]
    },
    {
      "cell_type": "code",
      "metadata": {
        "colab": {
          "base_uri": "https://localhost:8080/"
        },
        "id": "Sn5DvMlwl9vP",
        "outputId": "33273896-ce2b-4d69-caec-71105abb0ef5"
      },
      "source": [
        "val_preds2[1]+val_preds4[1]+svm_preds[1]"
      ],
      "execution_count": null,
      "outputs": [
        {
          "output_type": "execute_result",
          "data": {
            "text/plain": [
              "142.57824571782248"
            ]
          },
          "metadata": {
            "tags": []
          },
          "execution_count": 176
        }
      ]
    },
    {
      "cell_type": "code",
      "metadata": {
        "colab": {
          "base_uri": "https://localhost:8080/"
        },
        "id": "xqyxkr6WmDYc",
        "outputId": "3774677a-0766-4f8d-e4f8-f01c6848ae59"
      },
      "source": [
        "val_preds=val_preds/3\r\n",
        "val_preds[1]"
      ],
      "execution_count": null,
      "outputs": [
        {
          "output_type": "execute_result",
          "data": {
            "text/plain": [
              "47.52608190594083"
            ]
          },
          "metadata": {
            "tags": []
          },
          "execution_count": 177
        }
      ]
    },
    {
      "cell_type": "code",
      "metadata": {
        "colab": {
          "base_uri": "https://localhost:8080/"
        },
        "id": "Mi3MJNHambOq",
        "outputId": "c02c13ee-7124-4cf0-cef4-b0cd42e5aa93"
      },
      "source": [
        "metric(val_tars,val_preds)"
      ],
      "execution_count": null,
      "outputs": [
        {
          "output_type": "execute_result",
          "data": {
            "text/plain": [
              "1.5066609750960704"
            ]
          },
          "metadata": {
            "tags": []
          },
          "execution_count": 178
        }
      ]
    },
    {
      "cell_type": "code",
      "metadata": {
        "id": "muqr8dKUmdj5"
      },
      "source": [
        "# cross val metric seems to be having 1.628 value"
      ],
      "execution_count": null,
      "outputs": []
    },
    {
      "cell_type": "code",
      "metadata": {
        "id": "POmhrJCOnBXZ"
      },
      "source": [
        "op1 = pd.read_csv('/content/today1.csv')\r\n",
        "op2 = pd.read_csv('/content/today2.csv')\r\n",
        "op3 = pd.read_csv('/content/today3.csv')"
      ],
      "execution_count": null,
      "outputs": []
    },
    {
      "cell_type": "code",
      "metadata": {
        "id": "i_pHJmWrnWcl"
      },
      "source": [
        "pred = op1['time_spent']+op2['time_spent']+op3['time_spent']\r\n"
      ],
      "execution_count": null,
      "outputs": []
    },
    {
      "cell_type": "code",
      "metadata": {
        "id": "Dw63JBYAnfs8"
      },
      "source": [
        "sub['time_spent'] = pred/3\r\n",
        "sub.to_csv('simple_sub1.csv',index=False)"
      ],
      "execution_count": null,
      "outputs": []
    },
    {
      "cell_type": "code",
      "metadata": {
        "id": "2vt9tZkLqrFb"
      },
      "source": [
        ""
      ],
      "execution_count": null,
      "outputs": []
    },
    {
      "cell_type": "markdown",
      "metadata": {
        "id": "PMEA8vx5rBiU"
      },
      "source": [
        "lets check ensemble strategy"
      ]
    },
    {
      "cell_type": "code",
      "metadata": {
        "id": "fKjCu3WQrDpl"
      },
      "source": [
        "val_preds=val_preds2+val_preds4\r\n",
        "val_preds=val_preds/2"
      ],
      "execution_count": null,
      "outputs": []
    },
    {
      "cell_type": "code",
      "metadata": {
        "colab": {
          "base_uri": "https://localhost:8080/"
        },
        "id": "v9r69tLTrS0D",
        "outputId": "655f6032-8230-4dd3-f82d-d7d885d6343c"
      },
      "source": [
        "metric(val_tars,val_preds)"
      ],
      "execution_count": null,
      "outputs": [
        {
          "output_type": "execute_result",
          "data": {
            "text/plain": [
              "1.515716866178937"
            ]
          },
          "metadata": {
            "tags": []
          },
          "execution_count": 210
        }
      ]
    },
    {
      "cell_type": "code",
      "metadata": {
        "id": "wgNGTjYFrTzJ"
      },
      "source": [
        ""
      ],
      "execution_count": null,
      "outputs": []
    }
  ]
}