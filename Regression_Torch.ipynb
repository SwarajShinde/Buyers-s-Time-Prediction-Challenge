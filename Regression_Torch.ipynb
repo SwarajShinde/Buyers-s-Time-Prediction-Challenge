{
  "nbformat": 4,
  "nbformat_minor": 0,
  "metadata": {
    "colab": {
      "name": "Regression_Torch",
      "provenance": [],
      "collapsed_sections": [],
      "authorship_tag": "ABX9TyN8iVeA1JMRWjBUAD9vnV7f",
      "include_colab_link": true
    },
    "kernelspec": {
      "name": "python3",
      "display_name": "Python 3"
    },
    "accelerator": "GPU",
    "widgets": {
      "application/vnd.jupyter.widget-state+json": {
        "5f8025aaecfd426491d4345ac692b907": {
          "model_module": "@jupyter-widgets/controls",
          "model_name": "HBoxModel",
          "state": {
            "_view_name": "HBoxView",
            "_dom_classes": [],
            "_model_name": "HBoxModel",
            "_view_module": "@jupyter-widgets/controls",
            "_model_module_version": "1.5.0",
            "_view_count": null,
            "_view_module_version": "1.5.0",
            "box_style": "",
            "layout": "IPY_MODEL_945819b4f14c4de8a8d39ef40e90e5ad",
            "_model_module": "@jupyter-widgets/controls",
            "children": [
              "IPY_MODEL_80bd3d150ae64b2c8887fc58983a166f",
              "IPY_MODEL_295216a38fce41369e87af0fc71d7fe4"
            ]
          }
        },
        "945819b4f14c4de8a8d39ef40e90e5ad": {
          "model_module": "@jupyter-widgets/base",
          "model_name": "LayoutModel",
          "state": {
            "_view_name": "LayoutView",
            "grid_template_rows": null,
            "right": null,
            "justify_content": null,
            "_view_module": "@jupyter-widgets/base",
            "overflow": null,
            "_model_module_version": "1.2.0",
            "_view_count": null,
            "flex_flow": null,
            "width": null,
            "min_width": null,
            "border": null,
            "align_items": null,
            "bottom": null,
            "_model_module": "@jupyter-widgets/base",
            "top": null,
            "grid_column": null,
            "overflow_y": null,
            "overflow_x": null,
            "grid_auto_flow": null,
            "grid_area": null,
            "grid_template_columns": null,
            "flex": null,
            "_model_name": "LayoutModel",
            "justify_items": null,
            "grid_row": null,
            "max_height": null,
            "align_content": null,
            "visibility": null,
            "align_self": null,
            "height": null,
            "min_height": null,
            "padding": null,
            "grid_auto_rows": null,
            "grid_gap": null,
            "max_width": null,
            "order": null,
            "_view_module_version": "1.2.0",
            "grid_template_areas": null,
            "object_position": null,
            "object_fit": null,
            "grid_auto_columns": null,
            "margin": null,
            "display": null,
            "left": null
          }
        },
        "80bd3d150ae64b2c8887fc58983a166f": {
          "model_module": "@jupyter-widgets/controls",
          "model_name": "FloatProgressModel",
          "state": {
            "_view_name": "ProgressView",
            "style": "IPY_MODEL_ec4caf2582fe41a9896509d95006a10a",
            "_dom_classes": [],
            "description": "100%",
            "_model_name": "FloatProgressModel",
            "bar_style": "success",
            "max": 136,
            "_view_module": "@jupyter-widgets/controls",
            "_model_module_version": "1.5.0",
            "value": 136,
            "_view_count": null,
            "_view_module_version": "1.5.0",
            "orientation": "horizontal",
            "min": 0,
            "description_tooltip": null,
            "_model_module": "@jupyter-widgets/controls",
            "layout": "IPY_MODEL_78d5ed2f009b4892b4424d1695552227"
          }
        },
        "295216a38fce41369e87af0fc71d7fe4": {
          "model_module": "@jupyter-widgets/controls",
          "model_name": "HTMLModel",
          "state": {
            "_view_name": "HTMLView",
            "style": "IPY_MODEL_6b6371e8d0ad467493951555c0a2afc1",
            "_dom_classes": [],
            "description": "",
            "_model_name": "HTMLModel",
            "placeholder": "​",
            "_view_module": "@jupyter-widgets/controls",
            "_model_module_version": "1.5.0",
            "value": " 136/136 [00:58&lt;00:00,  2.31it/s]",
            "_view_count": null,
            "_view_module_version": "1.5.0",
            "description_tooltip": null,
            "_model_module": "@jupyter-widgets/controls",
            "layout": "IPY_MODEL_0f7c88dcfe3a4e16b66d7155254bede3"
          }
        },
        "ec4caf2582fe41a9896509d95006a10a": {
          "model_module": "@jupyter-widgets/controls",
          "model_name": "ProgressStyleModel",
          "state": {
            "_view_name": "StyleView",
            "_model_name": "ProgressStyleModel",
            "description_width": "initial",
            "_view_module": "@jupyter-widgets/base",
            "_model_module_version": "1.5.0",
            "_view_count": null,
            "_view_module_version": "1.2.0",
            "bar_color": null,
            "_model_module": "@jupyter-widgets/controls"
          }
        },
        "78d5ed2f009b4892b4424d1695552227": {
          "model_module": "@jupyter-widgets/base",
          "model_name": "LayoutModel",
          "state": {
            "_view_name": "LayoutView",
            "grid_template_rows": null,
            "right": null,
            "justify_content": null,
            "_view_module": "@jupyter-widgets/base",
            "overflow": null,
            "_model_module_version": "1.2.0",
            "_view_count": null,
            "flex_flow": null,
            "width": null,
            "min_width": null,
            "border": null,
            "align_items": null,
            "bottom": null,
            "_model_module": "@jupyter-widgets/base",
            "top": null,
            "grid_column": null,
            "overflow_y": null,
            "overflow_x": null,
            "grid_auto_flow": null,
            "grid_area": null,
            "grid_template_columns": null,
            "flex": null,
            "_model_name": "LayoutModel",
            "justify_items": null,
            "grid_row": null,
            "max_height": null,
            "align_content": null,
            "visibility": null,
            "align_self": null,
            "height": null,
            "min_height": null,
            "padding": null,
            "grid_auto_rows": null,
            "grid_gap": null,
            "max_width": null,
            "order": null,
            "_view_module_version": "1.2.0",
            "grid_template_areas": null,
            "object_position": null,
            "object_fit": null,
            "grid_auto_columns": null,
            "margin": null,
            "display": null,
            "left": null
          }
        },
        "6b6371e8d0ad467493951555c0a2afc1": {
          "model_module": "@jupyter-widgets/controls",
          "model_name": "DescriptionStyleModel",
          "state": {
            "_view_name": "StyleView",
            "_model_name": "DescriptionStyleModel",
            "description_width": "",
            "_view_module": "@jupyter-widgets/base",
            "_model_module_version": "1.5.0",
            "_view_count": null,
            "_view_module_version": "1.2.0",
            "_model_module": "@jupyter-widgets/controls"
          }
        },
        "0f7c88dcfe3a4e16b66d7155254bede3": {
          "model_module": "@jupyter-widgets/base",
          "model_name": "LayoutModel",
          "state": {
            "_view_name": "LayoutView",
            "grid_template_rows": null,
            "right": null,
            "justify_content": null,
            "_view_module": "@jupyter-widgets/base",
            "overflow": null,
            "_model_module_version": "1.2.0",
            "_view_count": null,
            "flex_flow": null,
            "width": null,
            "min_width": null,
            "border": null,
            "align_items": null,
            "bottom": null,
            "_model_module": "@jupyter-widgets/base",
            "top": null,
            "grid_column": null,
            "overflow_y": null,
            "overflow_x": null,
            "grid_auto_flow": null,
            "grid_area": null,
            "grid_template_columns": null,
            "flex": null,
            "_model_name": "LayoutModel",
            "justify_items": null,
            "grid_row": null,
            "max_height": null,
            "align_content": null,
            "visibility": null,
            "align_self": null,
            "height": null,
            "min_height": null,
            "padding": null,
            "grid_auto_rows": null,
            "grid_gap": null,
            "max_width": null,
            "order": null,
            "_view_module_version": "1.2.0",
            "grid_template_areas": null,
            "object_position": null,
            "object_fit": null,
            "grid_auto_columns": null,
            "margin": null,
            "display": null,
            "left": null
          }
        },
        "98cf451edf454f31b41b8ac1ad74a8bc": {
          "model_module": "@jupyter-widgets/controls",
          "model_name": "HBoxModel",
          "state": {
            "_view_name": "HBoxView",
            "_dom_classes": [],
            "_model_name": "HBoxModel",
            "_view_module": "@jupyter-widgets/controls",
            "_model_module_version": "1.5.0",
            "_view_count": null,
            "_view_module_version": "1.5.0",
            "box_style": "",
            "layout": "IPY_MODEL_76734bebda47423f9bc6646d635bb4c8",
            "_model_module": "@jupyter-widgets/controls",
            "children": [
              "IPY_MODEL_3eace1354bff4b3090a1e36433cb05ec",
              "IPY_MODEL_197fb029a9f647f7b966217990d94971"
            ]
          }
        },
        "76734bebda47423f9bc6646d635bb4c8": {
          "model_module": "@jupyter-widgets/base",
          "model_name": "LayoutModel",
          "state": {
            "_view_name": "LayoutView",
            "grid_template_rows": null,
            "right": null,
            "justify_content": null,
            "_view_module": "@jupyter-widgets/base",
            "overflow": null,
            "_model_module_version": "1.2.0",
            "_view_count": null,
            "flex_flow": null,
            "width": null,
            "min_width": null,
            "border": null,
            "align_items": null,
            "bottom": null,
            "_model_module": "@jupyter-widgets/base",
            "top": null,
            "grid_column": null,
            "overflow_y": null,
            "overflow_x": null,
            "grid_auto_flow": null,
            "grid_area": null,
            "grid_template_columns": null,
            "flex": null,
            "_model_name": "LayoutModel",
            "justify_items": null,
            "grid_row": null,
            "max_height": null,
            "align_content": null,
            "visibility": null,
            "align_self": null,
            "height": null,
            "min_height": null,
            "padding": null,
            "grid_auto_rows": null,
            "grid_gap": null,
            "max_width": null,
            "order": null,
            "_view_module_version": "1.2.0",
            "grid_template_areas": null,
            "object_position": null,
            "object_fit": null,
            "grid_auto_columns": null,
            "margin": null,
            "display": null,
            "left": null
          }
        },
        "3eace1354bff4b3090a1e36433cb05ec": {
          "model_module": "@jupyter-widgets/controls",
          "model_name": "FloatProgressModel",
          "state": {
            "_view_name": "ProgressView",
            "style": "IPY_MODEL_a33c800a5a4b46f9be2636f2eb115e0f",
            "_dom_classes": [],
            "description": "100%",
            "_model_name": "FloatProgressModel",
            "bar_style": "success",
            "max": 73,
            "_view_module": "@jupyter-widgets/controls",
            "_model_module_version": "1.5.0",
            "value": 73,
            "_view_count": null,
            "_view_module_version": "1.5.0",
            "orientation": "horizontal",
            "min": 0,
            "description_tooltip": null,
            "_model_module": "@jupyter-widgets/controls",
            "layout": "IPY_MODEL_ad557a93b16b4827bfc06d53e5f98515"
          }
        },
        "197fb029a9f647f7b966217990d94971": {
          "model_module": "@jupyter-widgets/controls",
          "model_name": "HTMLModel",
          "state": {
            "_view_name": "HTMLView",
            "style": "IPY_MODEL_f5b11aba41e94ab0be5843b11f3a7d72",
            "_dom_classes": [],
            "description": "",
            "_model_name": "HTMLModel",
            "placeholder": "​",
            "_view_module": "@jupyter-widgets/controls",
            "_model_module_version": "1.5.0",
            "value": " 73/73 [00:01&lt;00:00, 51.96it/s]",
            "_view_count": null,
            "_view_module_version": "1.5.0",
            "description_tooltip": null,
            "_model_module": "@jupyter-widgets/controls",
            "layout": "IPY_MODEL_c5cfcd9e0d39453abaf4f6a30c7cfe1a"
          }
        },
        "a33c800a5a4b46f9be2636f2eb115e0f": {
          "model_module": "@jupyter-widgets/controls",
          "model_name": "ProgressStyleModel",
          "state": {
            "_view_name": "StyleView",
            "_model_name": "ProgressStyleModel",
            "description_width": "initial",
            "_view_module": "@jupyter-widgets/base",
            "_model_module_version": "1.5.0",
            "_view_count": null,
            "_view_module_version": "1.2.0",
            "bar_color": null,
            "_model_module": "@jupyter-widgets/controls"
          }
        },
        "ad557a93b16b4827bfc06d53e5f98515": {
          "model_module": "@jupyter-widgets/base",
          "model_name": "LayoutModel",
          "state": {
            "_view_name": "LayoutView",
            "grid_template_rows": null,
            "right": null,
            "justify_content": null,
            "_view_module": "@jupyter-widgets/base",
            "overflow": null,
            "_model_module_version": "1.2.0",
            "_view_count": null,
            "flex_flow": null,
            "width": null,
            "min_width": null,
            "border": null,
            "align_items": null,
            "bottom": null,
            "_model_module": "@jupyter-widgets/base",
            "top": null,
            "grid_column": null,
            "overflow_y": null,
            "overflow_x": null,
            "grid_auto_flow": null,
            "grid_area": null,
            "grid_template_columns": null,
            "flex": null,
            "_model_name": "LayoutModel",
            "justify_items": null,
            "grid_row": null,
            "max_height": null,
            "align_content": null,
            "visibility": null,
            "align_self": null,
            "height": null,
            "min_height": null,
            "padding": null,
            "grid_auto_rows": null,
            "grid_gap": null,
            "max_width": null,
            "order": null,
            "_view_module_version": "1.2.0",
            "grid_template_areas": null,
            "object_position": null,
            "object_fit": null,
            "grid_auto_columns": null,
            "margin": null,
            "display": null,
            "left": null
          }
        },
        "f5b11aba41e94ab0be5843b11f3a7d72": {
          "model_module": "@jupyter-widgets/controls",
          "model_name": "DescriptionStyleModel",
          "state": {
            "_view_name": "StyleView",
            "_model_name": "DescriptionStyleModel",
            "description_width": "",
            "_view_module": "@jupyter-widgets/base",
            "_model_module_version": "1.5.0",
            "_view_count": null,
            "_view_module_version": "1.2.0",
            "_model_module": "@jupyter-widgets/controls"
          }
        },
        "c5cfcd9e0d39453abaf4f6a30c7cfe1a": {
          "model_module": "@jupyter-widgets/base",
          "model_name": "LayoutModel",
          "state": {
            "_view_name": "LayoutView",
            "grid_template_rows": null,
            "right": null,
            "justify_content": null,
            "_view_module": "@jupyter-widgets/base",
            "overflow": null,
            "_model_module_version": "1.2.0",
            "_view_count": null,
            "flex_flow": null,
            "width": null,
            "min_width": null,
            "border": null,
            "align_items": null,
            "bottom": null,
            "_model_module": "@jupyter-widgets/base",
            "top": null,
            "grid_column": null,
            "overflow_y": null,
            "overflow_x": null,
            "grid_auto_flow": null,
            "grid_area": null,
            "grid_template_columns": null,
            "flex": null,
            "_model_name": "LayoutModel",
            "justify_items": null,
            "grid_row": null,
            "max_height": null,
            "align_content": null,
            "visibility": null,
            "align_self": null,
            "height": null,
            "min_height": null,
            "padding": null,
            "grid_auto_rows": null,
            "grid_gap": null,
            "max_width": null,
            "order": null,
            "_view_module_version": "1.2.0",
            "grid_template_areas": null,
            "object_position": null,
            "object_fit": null,
            "grid_auto_columns": null,
            "margin": null,
            "display": null,
            "left": null
          }
        }
      }
    }
  },
  "cells": [
    {
      "cell_type": "markdown",
      "metadata": {
        "id": "view-in-github",
        "colab_type": "text"
      },
      "source": [
        "<a href=\"https://colab.research.google.com/github/SwarajShinde/Buyers-s-Time-Prediction-Challenge/blob/main/Regression_Torch.ipynb\" target=\"_parent\"><img src=\"https://colab.research.google.com/assets/colab-badge.svg\" alt=\"Open In Colab\"/></a>"
      ]
    },
    {
      "cell_type": "code",
      "metadata": {
        "colab": {
          "base_uri": "https://localhost:8080/"
        },
        "id": "7lI4mg8aB5CO",
        "outputId": "a360a63f-80f5-45ef-9739-b3d989b335de"
      },
      "source": [
        "import torch\r\n",
        "import torch.nn as nn\r\n",
        "import pandas as pd\r\n",
        "import numpy as np\r\n",
        "import re\r\n",
        "import seaborn as sns\r\n",
        "import sklearn\r\n",
        "from google.colab import drive \r\n",
        "drive.mount('/content/drive')"
      ],
      "execution_count": null,
      "outputs": [
        {
          "output_type": "stream",
          "text": [
            "Drive already mounted at /content/drive; to attempt to forcibly remount, call drive.mount(\"/content/drive\", force_remount=True).\n"
          ],
          "name": "stdout"
        }
      ]
    },
    {
      "cell_type": "code",
      "metadata": {
        "id": "7-PTxDNdB8zI"
      },
      "source": [
        "train = pd.read_csv('/content/drive/MyDrive/Regress/train_encoded.csv')\r\n",
        "test = pd.read_csv('/content/drive/MyDrive/Regress/test_encoded.csv')\r\n",
        "sub = pd.read_csv(\"/content/drive/MyDrive/Regress/reg_problems/ParticipantData_BTPC/Sample Submission.csv\")"
      ],
      "execution_count": null,
      "outputs": []
    },
    {
      "cell_type": "code",
      "metadata": {
        "colab": {
          "base_uri": "https://localhost:8080/"
        },
        "id": "8-fWmPKZHOSE",
        "outputId": "1b144f24-8903-4875-b606-2d1ec8744d6b"
      },
      "source": [
        "print(train.head(5))\r\n",
        "train.isna().sum()"
      ],
      "execution_count": null,
      "outputs": [
        {
          "output_type": "stream",
          "text": [
            "                         session_id  ... month\n",
            "0  57f879e70d3c5fc2a98102d64c9fd84e  ...     1\n",
            "1  a5442b0c7c33d0a811e7661e556b2de8  ...     2\n",
            "2  305cb1486ed8610c00b37007926cb2c4  ...     8\n",
            "3  f2c1ecc9993f0071df91ba178450498c  ...    12\n",
            "4  e460830ae295e55d2216ebdc761ab9a6  ...     9\n",
            "\n",
            "[5 rows x 10 columns]\n"
          ],
          "name": "stdout"
        },
        {
          "output_type": "execute_result",
          "data": {
            "text/plain": [
              "session_id          0\n",
              "client_agent      160\n",
              "device_details      0\n",
              "date                0\n",
              "purchased           0\n",
              "added_in_cart       0\n",
              "checked_out         0\n",
              "time_spent          0\n",
              "client_mod          0\n",
              "month               0\n",
              "dtype: int64"
            ]
          },
          "metadata": {
            "tags": []
          },
          "execution_count": 111
        }
      ]
    },
    {
      "cell_type": "code",
      "metadata": {
        "id": "m2xGmqLqYkqM",
        "colab": {
          "base_uri": "https://localhost:8080/",
          "height": 311
        },
        "outputId": "2551d5ba-cd62-435d-9d08-185007bf8cd5"
      },
      "source": [
        "train.drop('client_agent',axis=1,inplace=True)"
      ],
      "execution_count": null,
      "outputs": [
        {
          "output_type": "error",
          "ename": "KeyError",
          "evalue": "ignored",
          "traceback": [
            "\u001b[0;31m---------------------------------------------------------------------------\u001b[0m",
            "\u001b[0;31mKeyError\u001b[0m                                  Traceback (most recent call last)",
            "\u001b[0;32m<ipython-input-113-322cedb0fd18>\u001b[0m in \u001b[0;36m<module>\u001b[0;34m()\u001b[0m\n\u001b[0;32m----> 1\u001b[0;31m \u001b[0mtrain\u001b[0m\u001b[0;34m.\u001b[0m\u001b[0mdrop\u001b[0m\u001b[0;34m(\u001b[0m\u001b[0;34m'client_agent'\u001b[0m\u001b[0;34m,\u001b[0m\u001b[0maxis\u001b[0m\u001b[0;34m=\u001b[0m\u001b[0;36m1\u001b[0m\u001b[0;34m,\u001b[0m\u001b[0minplace\u001b[0m\u001b[0;34m=\u001b[0m\u001b[0;32mTrue\u001b[0m\u001b[0;34m)\u001b[0m\u001b[0;34m\u001b[0m\u001b[0;34m\u001b[0m\u001b[0m\n\u001b[0m",
            "\u001b[0;32m/usr/local/lib/python3.6/dist-packages/pandas/core/frame.py\u001b[0m in \u001b[0;36mdrop\u001b[0;34m(self, labels, axis, index, columns, level, inplace, errors)\u001b[0m\n\u001b[1;32m   4172\u001b[0m             \u001b[0mlevel\u001b[0m\u001b[0;34m=\u001b[0m\u001b[0mlevel\u001b[0m\u001b[0;34m,\u001b[0m\u001b[0;34m\u001b[0m\u001b[0;34m\u001b[0m\u001b[0m\n\u001b[1;32m   4173\u001b[0m             \u001b[0minplace\u001b[0m\u001b[0;34m=\u001b[0m\u001b[0minplace\u001b[0m\u001b[0;34m,\u001b[0m\u001b[0;34m\u001b[0m\u001b[0;34m\u001b[0m\u001b[0m\n\u001b[0;32m-> 4174\u001b[0;31m             \u001b[0merrors\u001b[0m\u001b[0;34m=\u001b[0m\u001b[0merrors\u001b[0m\u001b[0;34m,\u001b[0m\u001b[0;34m\u001b[0m\u001b[0;34m\u001b[0m\u001b[0m\n\u001b[0m\u001b[1;32m   4175\u001b[0m         )\n\u001b[1;32m   4176\u001b[0m \u001b[0;34m\u001b[0m\u001b[0m\n",
            "\u001b[0;32m/usr/local/lib/python3.6/dist-packages/pandas/core/generic.py\u001b[0m in \u001b[0;36mdrop\u001b[0;34m(self, labels, axis, index, columns, level, inplace, errors)\u001b[0m\n\u001b[1;32m   3887\u001b[0m         \u001b[0;32mfor\u001b[0m \u001b[0maxis\u001b[0m\u001b[0;34m,\u001b[0m \u001b[0mlabels\u001b[0m \u001b[0;32min\u001b[0m \u001b[0maxes\u001b[0m\u001b[0;34m.\u001b[0m\u001b[0mitems\u001b[0m\u001b[0;34m(\u001b[0m\u001b[0;34m)\u001b[0m\u001b[0;34m:\u001b[0m\u001b[0;34m\u001b[0m\u001b[0;34m\u001b[0m\u001b[0m\n\u001b[1;32m   3888\u001b[0m             \u001b[0;32mif\u001b[0m \u001b[0mlabels\u001b[0m \u001b[0;32mis\u001b[0m \u001b[0;32mnot\u001b[0m \u001b[0;32mNone\u001b[0m\u001b[0;34m:\u001b[0m\u001b[0;34m\u001b[0m\u001b[0;34m\u001b[0m\u001b[0m\n\u001b[0;32m-> 3889\u001b[0;31m                 \u001b[0mobj\u001b[0m \u001b[0;34m=\u001b[0m \u001b[0mobj\u001b[0m\u001b[0;34m.\u001b[0m\u001b[0m_drop_axis\u001b[0m\u001b[0;34m(\u001b[0m\u001b[0mlabels\u001b[0m\u001b[0;34m,\u001b[0m \u001b[0maxis\u001b[0m\u001b[0;34m,\u001b[0m \u001b[0mlevel\u001b[0m\u001b[0;34m=\u001b[0m\u001b[0mlevel\u001b[0m\u001b[0;34m,\u001b[0m \u001b[0merrors\u001b[0m\u001b[0;34m=\u001b[0m\u001b[0merrors\u001b[0m\u001b[0;34m)\u001b[0m\u001b[0;34m\u001b[0m\u001b[0;34m\u001b[0m\u001b[0m\n\u001b[0m\u001b[1;32m   3890\u001b[0m \u001b[0;34m\u001b[0m\u001b[0m\n\u001b[1;32m   3891\u001b[0m         \u001b[0;32mif\u001b[0m \u001b[0minplace\u001b[0m\u001b[0;34m:\u001b[0m\u001b[0;34m\u001b[0m\u001b[0;34m\u001b[0m\u001b[0m\n",
            "\u001b[0;32m/usr/local/lib/python3.6/dist-packages/pandas/core/generic.py\u001b[0m in \u001b[0;36m_drop_axis\u001b[0;34m(self, labels, axis, level, errors)\u001b[0m\n\u001b[1;32m   3921\u001b[0m                 \u001b[0mnew_axis\u001b[0m \u001b[0;34m=\u001b[0m \u001b[0maxis\u001b[0m\u001b[0;34m.\u001b[0m\u001b[0mdrop\u001b[0m\u001b[0;34m(\u001b[0m\u001b[0mlabels\u001b[0m\u001b[0;34m,\u001b[0m \u001b[0mlevel\u001b[0m\u001b[0;34m=\u001b[0m\u001b[0mlevel\u001b[0m\u001b[0;34m,\u001b[0m \u001b[0merrors\u001b[0m\u001b[0;34m=\u001b[0m\u001b[0merrors\u001b[0m\u001b[0;34m)\u001b[0m\u001b[0;34m\u001b[0m\u001b[0;34m\u001b[0m\u001b[0m\n\u001b[1;32m   3922\u001b[0m             \u001b[0;32melse\u001b[0m\u001b[0;34m:\u001b[0m\u001b[0;34m\u001b[0m\u001b[0;34m\u001b[0m\u001b[0m\n\u001b[0;32m-> 3923\u001b[0;31m                 \u001b[0mnew_axis\u001b[0m \u001b[0;34m=\u001b[0m \u001b[0maxis\u001b[0m\u001b[0;34m.\u001b[0m\u001b[0mdrop\u001b[0m\u001b[0;34m(\u001b[0m\u001b[0mlabels\u001b[0m\u001b[0;34m,\u001b[0m \u001b[0merrors\u001b[0m\u001b[0;34m=\u001b[0m\u001b[0merrors\u001b[0m\u001b[0;34m)\u001b[0m\u001b[0;34m\u001b[0m\u001b[0;34m\u001b[0m\u001b[0m\n\u001b[0m\u001b[1;32m   3924\u001b[0m             \u001b[0mresult\u001b[0m \u001b[0;34m=\u001b[0m \u001b[0mself\u001b[0m\u001b[0;34m.\u001b[0m\u001b[0mreindex\u001b[0m\u001b[0;34m(\u001b[0m\u001b[0;34m**\u001b[0m\u001b[0;34m{\u001b[0m\u001b[0maxis_name\u001b[0m\u001b[0;34m:\u001b[0m \u001b[0mnew_axis\u001b[0m\u001b[0;34m}\u001b[0m\u001b[0;34m)\u001b[0m\u001b[0;34m\u001b[0m\u001b[0;34m\u001b[0m\u001b[0m\n\u001b[1;32m   3925\u001b[0m \u001b[0;34m\u001b[0m\u001b[0m\n",
            "\u001b[0;32m/usr/local/lib/python3.6/dist-packages/pandas/core/indexes/base.py\u001b[0m in \u001b[0;36mdrop\u001b[0;34m(self, labels, errors)\u001b[0m\n\u001b[1;32m   5285\u001b[0m         \u001b[0;32mif\u001b[0m \u001b[0mmask\u001b[0m\u001b[0;34m.\u001b[0m\u001b[0many\u001b[0m\u001b[0;34m(\u001b[0m\u001b[0;34m)\u001b[0m\u001b[0;34m:\u001b[0m\u001b[0;34m\u001b[0m\u001b[0;34m\u001b[0m\u001b[0m\n\u001b[1;32m   5286\u001b[0m             \u001b[0;32mif\u001b[0m \u001b[0merrors\u001b[0m \u001b[0;34m!=\u001b[0m \u001b[0;34m\"ignore\"\u001b[0m\u001b[0;34m:\u001b[0m\u001b[0;34m\u001b[0m\u001b[0;34m\u001b[0m\u001b[0m\n\u001b[0;32m-> 5287\u001b[0;31m                 \u001b[0;32mraise\u001b[0m \u001b[0mKeyError\u001b[0m\u001b[0;34m(\u001b[0m\u001b[0;34mf\"{labels[mask]} not found in axis\"\u001b[0m\u001b[0;34m)\u001b[0m\u001b[0;34m\u001b[0m\u001b[0;34m\u001b[0m\u001b[0m\n\u001b[0m\u001b[1;32m   5288\u001b[0m             \u001b[0mindexer\u001b[0m \u001b[0;34m=\u001b[0m \u001b[0mindexer\u001b[0m\u001b[0;34m[\u001b[0m\u001b[0;34m~\u001b[0m\u001b[0mmask\u001b[0m\u001b[0;34m]\u001b[0m\u001b[0;34m\u001b[0m\u001b[0;34m\u001b[0m\u001b[0m\n\u001b[1;32m   5289\u001b[0m         \u001b[0;32mreturn\u001b[0m \u001b[0mself\u001b[0m\u001b[0;34m.\u001b[0m\u001b[0mdelete\u001b[0m\u001b[0;34m(\u001b[0m\u001b[0mindexer\u001b[0m\u001b[0;34m)\u001b[0m\u001b[0;34m\u001b[0m\u001b[0;34m\u001b[0m\u001b[0m\n",
            "\u001b[0;31mKeyError\u001b[0m: \"['client_agent'] not found in axis\""
          ]
        }
      ]
    },
    {
      "cell_type": "code",
      "metadata": {
        "id": "Ufxn6o5gXJUg",
        "colab": {
          "base_uri": "https://localhost:8080/"
        },
        "outputId": "80a50df8-dd6c-4a3d-ba4f-d488cb91b848"
      },
      "source": [
        "train.isna().sum()\r\n"
      ],
      "execution_count": null,
      "outputs": [
        {
          "output_type": "execute_result",
          "data": {
            "text/plain": [
              "session_id        0\n",
              "device_details    0\n",
              "date              0\n",
              "purchased         0\n",
              "added_in_cart     0\n",
              "checked_out       0\n",
              "time_spent        0\n",
              "client_mod        0\n",
              "month             0\n",
              "dtype: int64"
            ]
          },
          "metadata": {
            "tags": []
          },
          "execution_count": 114
        }
      ]
    },
    {
      "cell_type": "code",
      "metadata": {
        "id": "EdeKVDXtDmQB"
      },
      "source": [
        "from torch.utils.data import DataLoader,Dataset\r\n",
        "from tqdm.notebook import tqdm\r\n",
        "import torch.optim as optim\r\n",
        "import torch.nn.functional as F\r\n",
        "\r\n",
        "from sklearn.model_selection import train_test_split"
      ],
      "execution_count": null,
      "outputs": []
    },
    {
      "cell_type": "code",
      "metadata": {
        "colab": {
          "base_uri": "https://localhost:8080/"
        },
        "id": "K9xclxzkYvgh",
        "outputId": "3f0c1c8e-7ed1-452e-9b73-b519eff36046"
      },
      "source": [
        "x=torch.tensor([1])\r\n",
        "y=torch.tensor([2])\r\n",
        "z=torch.stack((x,y),dim=1)\r\n",
        "z"
      ],
      "execution_count": null,
      "outputs": [
        {
          "output_type": "execute_result",
          "data": {
            "text/plain": [
              "tensor([[1, 2]])"
            ]
          },
          "metadata": {
            "tags": []
          },
          "execution_count": 116
        }
      ]
    },
    {
      "cell_type": "code",
      "metadata": {
        "id": "otW_eEKPCOLG"
      },
      "source": [
        "features = ['device_details','purchased','added_in_cart','checked_out','client_mod','month']\r\n",
        "target = ['time_spent']"
      ],
      "execution_count": null,
      "outputs": []
    },
    {
      "cell_type": "code",
      "metadata": {
        "colab": {
          "base_uri": "https://localhost:8080/"
        },
        "id": "DHZvlBc9lIcA",
        "outputId": "d5da9b28-eeca-49e2-9e48-dfe0d24e1f40"
      },
      "source": [
        "train.shape[0]"
      ],
      "execution_count": null,
      "outputs": [
        {
          "output_type": "execute_result",
          "data": {
            "text/plain": [
              "5429"
            ]
          },
          "metadata": {
            "tags": []
          },
          "execution_count": 118
        }
      ]
    },
    {
      "cell_type": "code",
      "metadata": {
        "colab": {
          "base_uri": "https://localhost:8080/"
        },
        "id": "orHtDGfspM0a",
        "outputId": "b29f4d31-c4df-4262-d647-1adcd58d89bc"
      },
      "source": [
        "ko = train.iloc[3]\r\n",
        "ko['session_id']\r\n",
        "loko = ko[features].tolist()\r\n",
        "torch_tn = torch.tensor(loko)\r\n",
        "torch_tn"
      ],
      "execution_count": null,
      "outputs": [
        {
          "output_type": "execute_result",
          "data": {
            "text/plain": [
              "tensor([ 8,  0,  1,  0,  2, 12])"
            ]
          },
          "metadata": {
            "tags": []
          },
          "execution_count": 119
        }
      ]
    },
    {
      "cell_type": "code",
      "metadata": {
        "id": "k44ncfK-CP3v"
      },
      "source": [
        "\r\n",
        "# Loss Function: RMLSE\r\n",
        "class RMLSE(nn.Module):\r\n",
        "    def __init__(self):\r\n",
        "        super().__init__()\r\n",
        "        self.mse = nn.MSELoss()\r\n",
        "    def forward(self,pred,act):\r\n",
        "        return torch.sqrt(self.mse(torch.log(pred+1),torch.log(act+1)))\r\n"
      ],
      "execution_count": null,
      "outputs": []
    },
    {
      "cell_type": "code",
      "metadata": {
        "id": "E4dLnS1pDYiU"
      },
      "source": [
        "class RegressionDataset(Dataset):\r\n",
        "    def __init__(self,df,feats):\r\n",
        "        self.df=df\r\n",
        "        self.feats=feats\r\n",
        "\r\n",
        "    def __len__(self):\r\n",
        "\r\n",
        "        return self.df.shape[0]\r\n",
        "\r\n",
        "    def __getitem__(self,idx):\r\n",
        "        data = self.df.iloc[idx]\r\n",
        "        target = torch.tensor(data['time_spent'],dtype=torch.float32)\r\n",
        "        features = torch.tensor(data[self.feats].tolist(),dtype=torch.float32)\r\n",
        "        return features,target"
      ],
      "execution_count": null,
      "outputs": []
    },
    {
      "cell_type": "code",
      "metadata": {
        "id": "nm8CeGyuXMIZ"
      },
      "source": [
        "\r\n",
        "temp_train = train[:50]"
      ],
      "execution_count": null,
      "outputs": []
    },
    {
      "cell_type": "code",
      "metadata": {
        "id": "od9iWAbYXOpV"
      },
      "source": [
        "temp_ds = RegressionDataset(df=temp_train,feats=features)\r\n"
      ],
      "execution_count": null,
      "outputs": []
    },
    {
      "cell_type": "code",
      "metadata": {
        "id": "NtWFEa5zZXPk"
      },
      "source": [
        "temp_dl = DataLoader(temp_ds,batch_size=4,shuffle=False)\r\n"
      ],
      "execution_count": null,
      "outputs": []
    },
    {
      "cell_type": "code",
      "metadata": {
        "id": "hknZn6kraRoG"
      },
      "source": [
        "train_,val_ = train_test_split(train,test_size=0.2)"
      ],
      "execution_count": null,
      "outputs": []
    },
    {
      "cell_type": "code",
      "metadata": {
        "id": "lIZwpiyKZzSm"
      },
      "source": [
        "train_ds = RegressionDataset(df=train_,feats=features)\r\n",
        "valid_ds = RegressionDataset(df=val_,feats=features)"
      ],
      "execution_count": null,
      "outputs": []
    },
    {
      "cell_type": "code",
      "metadata": {
        "id": "4tUmIt3xaqIp"
      },
      "source": [
        "train_dl = DataLoader(train_ds,batch_size=32,shuffle=True,num_workers=2)\r\n",
        "valid_dl = DataLoader(valid_ds,batch_size=32,shuffle=False,num_workers=2)"
      ],
      "execution_count": null,
      "outputs": []
    },
    {
      "cell_type": "code",
      "metadata": {
        "id": "8vZ4jgEHFKjQ"
      },
      "source": [
        "# nn Architecture\r\n",
        "class REModel(nn.Module):\r\n",
        "    def __init__(self,num_feats):\r\n",
        "        super().__init__()\r\n",
        "        self.layer1 = nn.utils.weight_norm(nn.Linear(num_feats,16))\r\n",
        "        self.layer2=nn.utils.weight_norm(nn.Linear(16,32))\r\n",
        "        self.layer3=nn.utils.weight_norm(nn.Linear(32,16))\r\n",
        "        self.dropout1 = nn.Dropout(0.20)\r\n",
        "        self.layer4=nn.Linear(16,1)\r\n",
        "        self.relu = nn.ReLU()\r\n",
        "    def forward(self,inputs):\r\n",
        "        x=self.relu(self.layer1(inputs))\r\n",
        "        x=self.dropout1(x)\r\n",
        "        x=self.relu(self.layer2(x))\r\n",
        "        x=self.dropout1(x)\r\n",
        "        x=self.relu(self.layer3(x))\r\n",
        "        x=self.dropout1(x)\r\n",
        "        x=self.relu(self.layer4(x))\r\n",
        "        return x\r\n",
        "\r\n"
      ],
      "execution_count": null,
      "outputs": []
    },
    {
      "cell_type": "code",
      "metadata": {
        "id": "bu_uJQaghb2g"
      },
      "source": [
        "class Model(nn.Module):\r\n",
        "    def __init__(self, num_features, hidden_size):\r\n",
        "        super(Model, self).__init__()\r\n",
        "        self.batch_norm1 = nn.BatchNorm1d(num_features)\r\n",
        "        self.dropout1 = nn.Dropout(0.15)\r\n",
        "        self.dense1 = nn.utils.weight_norm(nn.Linear(num_features, hidden_size))\r\n",
        "        \r\n",
        "        self.batch_norm2 = nn.BatchNorm1d(hidden_size)\r\n",
        "        self.dropout2 = nn.Dropout(0.15)\r\n",
        "        self.dense2 = nn.Linear(hidden_size, hidden_size)\r\n",
        "        \r\n",
        "        self.batch_norm3 = nn.BatchNorm1d(hidden_size)\r\n",
        "        self.dropout3 = nn.Dropout(0.15)\r\n",
        "        self.dense3 = nn.utils.weight_norm(nn.Linear(hidden_size, 1))\r\n",
        "    \r\n",
        "    def forward(self, x):\r\n",
        "        #x = self.batch_norm1(x)\r\n",
        "        x = self.dropout1(x)\r\n",
        "        x = F.leaky_relu(self.dense1(x))\r\n",
        "        \r\n",
        "       # x = self.batch_norm2(x)\r\n",
        "        x = self.dropout2(x)\r\n",
        "        x = F.leaky_relu(self.dense2(x))\r\n",
        "        \r\n",
        "        #x = self.batch_norm3(x)\r\n",
        "        x = self.dropout3(x)\r\n",
        "        x = self.dense3(x)\r\n",
        "        \r\n",
        "        return x"
      ],
      "execution_count": null,
      "outputs": []
    },
    {
      "cell_type": "code",
      "metadata": {
        "id": "jZpJclgAFOl9"
      },
      "source": [
        "model=REModel(num_feats=6)\r\n",
        "DEVICE='cuda'\r\n",
        "criterion = RMLSE()\r\n",
        "optimzer=torch.optim.Adam(model.parameters(),lr=0.001)\r\n",
        "\r\n"
      ],
      "execution_count": null,
      "outputs": []
    },
    {
      "cell_type": "code",
      "metadata": {
        "id": "PITv9s5oDyow"
      },
      "source": [
        "# train one epoch\r\n",
        "def train_fn(loader,device,model,criterion,optimizer):\r\n",
        "    train_epoch_loss = AverageMeter()\r\n",
        "    ops = []\r\n",
        "    model = model.to(device)\r\n",
        "    model.train()\r\n",
        "    tk0 = tqdm(loader,total = len(loader))\r\n",
        "    for inps,tars in tk0:\r\n",
        "        inps=inps.to(device)\r\n",
        "        tars=tars.to(device)\r\n",
        "        output = model(inps)\r\n",
        "        losses=criterion(output,tars)\r\n",
        "        train_epoch_loss.update(losses.item(),n=1)\r\n",
        "        losses.backward()\r\n",
        "        optimizer.step()\r\n",
        "        optimizer.zero_grad()\r\n",
        "\r\n",
        "    return train_epoch_loss.avg\r\n",
        "\r\n"
      ],
      "execution_count": null,
      "outputs": []
    },
    {
      "cell_type": "code",
      "metadata": {
        "id": "FLYbDO1sEz6w"
      },
      "source": [
        "# train one epoch\r\n",
        "def valid_fn(loader,device,model,criterion):\r\n",
        "    metric = AverageMeter()\r\n",
        "    model=model.to(device)\r\n",
        "    model.eval()\r\n",
        "    tk0 = tqdm(loader,total = len(loader))\r\n",
        "    for inps,tars in tk0:\r\n",
        "        inps=inps.to(device)\r\n",
        "        tars=tars.to(device)\r\n",
        "        output = model(inps)\r\n",
        "        losses=criterion(output,tars)\r\n",
        "        metric.update(losses.item(),n=1)\r\n",
        "    return metric.avg\r\n",
        "\r\n"
      ],
      "execution_count": null,
      "outputs": []
    },
    {
      "cell_type": "code",
      "metadata": {
        "id": "x2peced2hxvt"
      },
      "source": [
        "x,y=next(iter(train_dl))\r\n",
        "model(x)"
      ],
      "execution_count": null,
      "outputs": []
    },
    {
      "cell_type": "code",
      "metadata": {
        "colab": {
          "base_uri": "https://localhost:8080/"
        },
        "id": "QGMBg4UJggSX",
        "outputId": "ecf1db4c-2938-4d7f-d9cf-12ef33f07360"
      },
      "source": [
        "print(f'features_data_type : {x.dtype} target_data_type : {y.dtype}')"
      ],
      "execution_count": null,
      "outputs": [
        {
          "output_type": "stream",
          "text": [
            "features_data_type : torch.float32 target_data_type : torch.float32\n"
          ],
          "name": "stdout"
        }
      ]
    },
    {
      "cell_type": "code",
      "metadata": {
        "colab": {
          "base_uri": "https://localhost:8080/",
          "height": 156,
          "referenced_widgets": [
            "5f8025aaecfd426491d4345ac692b907",
            "945819b4f14c4de8a8d39ef40e90e5ad",
            "80bd3d150ae64b2c8887fc58983a166f",
            "295216a38fce41369e87af0fc71d7fe4",
            "ec4caf2582fe41a9896509d95006a10a",
            "78d5ed2f009b4892b4424d1695552227",
            "6b6371e8d0ad467493951555c0a2afc1",
            "0f7c88dcfe3a4e16b66d7155254bede3"
          ]
        },
        "id": "geLn2VO2jNJL",
        "outputId": "7064ccfc-e0b6-4d15-a5e5-2acdc4261644"
      },
      "source": [
        "x1= train_fn(loader=train_dl,device=DEVICE,model=model,criterion=criterion,optimizer=optimzer)"
      ],
      "execution_count": null,
      "outputs": [
        {
          "output_type": "display_data",
          "data": {
            "application/vnd.jupyter.widget-view+json": {
              "model_id": "5f8025aaecfd426491d4345ac692b907",
              "version_minor": 0,
              "version_major": 2
            },
            "text/plain": [
              "HBox(children=(FloatProgress(value=0.0, max=136.0), HTML(value='')))"
            ]
          },
          "metadata": {
            "tags": []
          }
        },
        {
          "output_type": "stream",
          "text": [
            "/usr/local/lib/python3.6/dist-packages/torch/nn/modules/loss.py:446: UserWarning: Using a target size (torch.Size([32])) that is different to the input size (torch.Size([32, 1])). This will likely lead to incorrect results due to broadcasting. Please ensure they have the same size.\n",
            "  return F.mse_loss(input, target, reduction=self.reduction)\n"
          ],
          "name": "stderr"
        },
        {
          "output_type": "stream",
          "text": [
            "\n"
          ],
          "name": "stdout"
        },
        {
          "output_type": "stream",
          "text": [
            "/usr/local/lib/python3.6/dist-packages/torch/nn/modules/loss.py:446: UserWarning: Using a target size (torch.Size([23])) that is different to the input size (torch.Size([23, 1])). This will likely lead to incorrect results due to broadcasting. Please ensure they have the same size.\n",
            "  return F.mse_loss(input, target, reduction=self.reduction)\n"
          ],
          "name": "stderr"
        }
      ]
    },
    {
      "cell_type": "code",
      "metadata": {
        "colab": {
          "base_uri": "https://localhost:8080/"
        },
        "id": "8Jm_lkiBkj7l",
        "outputId": "cea5c9cc-32fd-479a-ab7d-9985f7ea4076"
      },
      "source": [
        "x1"
      ],
      "execution_count": null,
      "outputs": [
        {
          "output_type": "execute_result",
          "data": {
            "text/plain": [
              "3.3110058307647705"
            ]
          },
          "metadata": {
            "tags": []
          },
          "execution_count": 82
        }
      ]
    },
    {
      "cell_type": "code",
      "metadata": {
        "id": "RtDoFM0gjGGd"
      },
      "source": [
        "class AverageMeter:\r\n",
        "    def __init__(self):\r\n",
        "        self.val = 0\r\n",
        "        self.avg=0\r\n",
        "        self.count=0\r\n",
        "        self.sum=0\r\n",
        "    def update(self,val,n=1):\r\n",
        "        self.val = val\r\n",
        "        self.sum += self.val*n\r\n",
        "        self.count += n\r\n",
        "        self.avg = self.sum/self.count\r\n",
        "    def reset(self):\r\n",
        "        self.val=0\r\n",
        "        self.avg=0\r\n",
        "        self.count=0\r\n",
        "        self.sum=0"
      ],
      "execution_count": null,
      "outputs": []
    },
    {
      "cell_type": "code",
      "metadata": {
        "id": "fSh1oITbD1yn"
      },
      "source": [
        "# the training Loop\r\n",
        "def run(epochs=1):\r\n",
        "    best_valid_loss = 1000\r\n",
        "    full_train_loss = []\r\n",
        "    full_valid_loss = []\r\n",
        "    for epoch in range(epochs):\r\n",
        "        train_loss= train_fn(loader=train_dl,device=DEVICE,model=model,criterion=criterion,optimizer=optimzer)\r\n",
        "        full_train_loss.append(train_loss)\r\n",
        "        print(f'epoch {epoch} Train_loss:{train_loss}')\r\n",
        "        valid_metric = valid_fn(loader=valid_dl,device=DEVICE,model=model,criterion=criterion)\r\n",
        "        full_valid_loss.append(valid_metric)\r\n",
        "        print(f'epoch {epoch} valid_loss:{valid_metric}')\r\n",
        "        if valid_metric < best_valid_loss:\r\n",
        "            best_valid_loss = valid_metric\r\n",
        "            torch.save(model.state_dict(),f'best_weights{epoch}.bin')\r\n",
        "    return full_train_loss,full_valid_loss\r\n",
        "        "
      ],
      "execution_count": null,
      "outputs": []
    },
    {
      "cell_type": "code",
      "metadata": {
        "id": "HKdX6WszD3p8"
      },
      "source": [
        "# inference"
      ],
      "execution_count": null,
      "outputs": []
    },
    {
      "cell_type": "code",
      "metadata": {
        "id": "CCti-RKlD5kj"
      },
      "source": [
        "tl,vl = run(50)"
      ],
      "execution_count": null,
      "outputs": []
    },
    {
      "cell_type": "code",
      "metadata": {
        "id": "FAIMKmuw0I1Y"
      },
      "source": [
        "import matplotlib.pyplot as plt\r\n",
        "%matplotlib inline"
      ],
      "execution_count": null,
      "outputs": []
    },
    {
      "cell_type": "code",
      "metadata": {
        "colab": {
          "base_uri": "https://localhost:8080/",
          "height": 282
        },
        "id": "77Bh0aL50NSH",
        "outputId": "a326dfbd-1e67-4328-bf49-de64ef52438b"
      },
      "source": [
        "plt.plot(tl)"
      ],
      "execution_count": null,
      "outputs": [
        {
          "output_type": "execute_result",
          "data": {
            "text/plain": [
              "[<matplotlib.lines.Line2D at 0x7f15cf63c828>]"
            ]
          },
          "metadata": {
            "tags": []
          },
          "execution_count": 146
        },
        {
          "output_type": "display_data",
          "data": {
            "image/png": "[encoded data removed]",
            "text/plain": [
              "<Figure size 432x288 with 1 Axes>"
            ]
          },
          "metadata": {
            "tags": [],
            "needs_background": "light"
          }
        }
      ]
    },
    {
      "cell_type": "code",
      "metadata": {
        "colab": {
          "base_uri": "https://localhost:8080/",
          "height": 282
        },
        "id": "lsbkw49B0UGt",
        "outputId": "063bac73-9aec-4f70-9ede-92db03a4bb02"
      },
      "source": [
        "plt.plot(vl)"
      ],
      "execution_count": null,
      "outputs": [
        {
          "output_type": "execute_result",
          "data": {
            "text/plain": [
              "[<matplotlib.lines.Line2D at 0x7f15cf5a10f0>]"
            ]
          },
          "metadata": {
            "tags": []
          },
          "execution_count": 147
        },
        {
          "output_type": "display_data",
          "data": {
            "image/png": "[encoded data removed]",
            "text/plain": [
              "<Figure size 432x288 with 1 Axes>"
            ]
          },
          "metadata": {
            "tags": [],
            "needs_background": "light"
          }
        }
      ]
    },
    {
      "cell_type": "code",
      "metadata": {
        "id": "ymzwoHSOmgXi"
      },
      "source": [
        "import warnings\r\n",
        "warnings.filterwarnings('ignore')"
      ],
      "execution_count": null,
      "outputs": []
    },
    {
      "cell_type": "code",
      "metadata": {
        "id": "n316u7mkm2rg"
      },
      "source": [
        ""
      ],
      "execution_count": null,
      "outputs": []
    },
    {
      "cell_type": "code",
      "metadata": {
        "id": "xAsNO9dfnzxp"
      },
      "source": [
        "# train one epoch\r\n",
        "def inference_fn(loader,device,model):\r\n",
        "    ops = []\r\n",
        "    model=model.to(device)\r\n",
        "    model.eval()\r\n",
        "    tk0 = tqdm(loader,total = len(loader))\r\n",
        "    for inps in tk0:\r\n",
        "        inps=inps.to(device)\r\n",
        "        output = model(inps)\r\n",
        "        ops.extend(output.tolist())\r\n",
        "    return ops\r\n",
        "\r\n"
      ],
      "execution_count": null,
      "outputs": []
    },
    {
      "cell_type": "code",
      "metadata": {
        "id": "AAMd_KzGoXqL"
      },
      "source": [
        "class TestDataset(Dataset):\r\n",
        "    def __init__(self,df,feats):\r\n",
        "        self.df=df\r\n",
        "        self.feats=feats\r\n",
        "\r\n",
        "    def __len__(self):\r\n",
        "\r\n",
        "        return self.df.shape[0]\r\n",
        "\r\n",
        "    def __getitem__(self,idx):\r\n",
        "        data = self.df.iloc[idx]\r\n",
        "        features = torch.tensor(data[self.feats].tolist(),dtype=torch.float32)\r\n",
        "        return features"
      ],
      "execution_count": null,
      "outputs": []
    },
    {
      "cell_type": "code",
      "metadata": {
        "id": "E6oJ8vgYoQ1y"
      },
      "source": [
        "test_ds = TestDataset(df=test,feats=features)"
      ],
      "execution_count": null,
      "outputs": []
    },
    {
      "cell_type": "code",
      "metadata": {
        "id": "3oyaTjbFoeOm"
      },
      "source": [
        "test_dl=DataLoader(test_ds,batch_size=32,shuffle=False,num_workers=2)"
      ],
      "execution_count": null,
      "outputs": []
    },
    {
      "cell_type": "code",
      "metadata": {
        "id": "1h8z9f5dpRHS"
      },
      "source": [
        "#model.load_state_dict(torch.load('/content/best_weights9.bin'))"
      ],
      "execution_count": null,
      "outputs": []
    },
    {
      "cell_type": "code",
      "metadata": {
        "colab": {
          "base_uri": "https://localhost:8080/",
          "height": 66,
          "referenced_widgets": [
            "98cf451edf454f31b41b8ac1ad74a8bc",
            "76734bebda47423f9bc6646d635bb4c8",
            "3eace1354bff4b3090a1e36433cb05ec",
            "197fb029a9f647f7b966217990d94971",
            "a33c800a5a4b46f9be2636f2eb115e0f",
            "ad557a93b16b4827bfc06d53e5f98515",
            "f5b11aba41e94ab0be5843b11f3a7d72",
            "c5cfcd9e0d39453abaf4f6a30c7cfe1a"
          ]
        },
        "id": "R4hk6_xUojzw",
        "outputId": "5b6b4f50-3853-4938-df13-f444b8e51e46"
      },
      "source": [
        "outputs_ = inference_fn(loader=test_dl,device=DEVICE,model=model)"
      ],
      "execution_count": null,
      "outputs": [
        {
          "output_type": "display_data",
          "data": {
            "application/vnd.jupyter.widget-view+json": {
              "model_id": "98cf451edf454f31b41b8ac1ad74a8bc",
              "version_minor": 0,
              "version_major": 2
            },
            "text/plain": [
              "HBox(children=(FloatProgress(value=0.0, max=73.0), HTML(value='')))"
            ]
          },
          "metadata": {
            "tags": []
          }
        },
        {
          "output_type": "stream",
          "text": [
            "\n"
          ],
          "name": "stdout"
        }
      ]
    },
    {
      "cell_type": "code",
      "metadata": {
        "colab": {
          "base_uri": "https://localhost:8080/"
        },
        "id": "LM2pLvMnowLq",
        "outputId": "c49b0b60-682d-4d85-b924-67e830ec633f"
      },
      "source": [
        "len(outputs_)"
      ],
      "execution_count": null,
      "outputs": [
        {
          "output_type": "execute_result",
          "data": {
            "text/plain": [
              "2327"
            ]
          },
          "metadata": {
            "tags": []
          },
          "execution_count": 155
        }
      ]
    },
    {
      "cell_type": "code",
      "metadata": {
        "id": "dkAwe2_Up-4C"
      },
      "source": [
        "output = []\r\n",
        "def reemovNestings(l): \r\n",
        "    for i in l: \r\n",
        "        if type(i) == list: \r\n",
        "            reemovNestings(i) \r\n",
        "        else: \r\n",
        "            output.append(i) "
      ],
      "execution_count": null,
      "outputs": []
    },
    {
      "cell_type": "code",
      "metadata": {
        "id": "Sh6r8C7rqf-0"
      },
      "source": [
        "reemovNestings(outputs_)"
      ],
      "execution_count": null,
      "outputs": []
    },
    {
      "cell_type": "code",
      "metadata": {
        "id": "kl1TDpG-qi6K"
      },
      "source": [
        "output"
      ],
      "execution_count": null,
      "outputs": []
    },
    {
      "cell_type": "code",
      "metadata": {
        "id": "GGsbvVAcpKaX"
      },
      "source": [
        "sub['time_spent'] = output"
      ],
      "execution_count": null,
      "outputs": []
    },
    {
      "cell_type": "code",
      "metadata": {
        "id": "DMW81SvdpzJj"
      },
      "source": [
        "sub.to_csv('weight_normalized.csv',index=False)"
      ],
      "execution_count": null,
      "outputs": []
    },
    {
      "cell_type": "code",
      "metadata": {
        "id": "zt5BXtWdp5Mz"
      },
      "source": [
        "subs2 = pd.read_csv('/content/avg_ensemble.csv')\r\n",
        "subs1 = pd.read_csv('/content/pytorch_sub3.csv')\r\n"
      ],
      "execution_count": null,
      "outputs": []
    },
    {
      "cell_type": "code",
      "metadata": {
        "colab": {
          "base_uri": "https://localhost:8080/",
          "height": 198
        },
        "id": "Ewde0Rfbu_VH",
        "outputId": "80be11dd-2856-4cdf-eb15-12cfe534d187"
      },
      "source": [
        "subs2.head(n=5)"
      ],
      "execution_count": null,
      "outputs": [
        {
          "output_type": "execute_result",
          "data": {
            "text/html": [
              "<div>\n",
              "<style scoped>\n",
              "    .dataframe tbody tr th:only-of-type {\n",
              "        vertical-align: middle;\n",
              "    }\n",
              "\n",
              "    .dataframe tbody tr th {\n",
              "        vertical-align: top;\n",
              "    }\n",
              "\n",
              "    .dataframe thead th {\n",
              "        text-align: right;\n",
              "    }\n",
              "</style>\n",
              "<table border=\"1\" class=\"dataframe\">\n",
              "  <thead>\n",
              "    <tr style=\"text-align: right;\">\n",
              "      <th></th>\n",
              "      <th>time_spent</th>\n",
              "    </tr>\n",
              "  </thead>\n",
              "  <tbody>\n",
              "    <tr>\n",
              "      <th>0</th>\n",
              "      <td>128.888641</td>\n",
              "    </tr>\n",
              "    <tr>\n",
              "      <th>1</th>\n",
              "      <td>103.031109</td>\n",
              "    </tr>\n",
              "    <tr>\n",
              "      <th>2</th>\n",
              "      <td>162.269379</td>\n",
              "    </tr>\n",
              "    <tr>\n",
              "      <th>3</th>\n",
              "      <td>106.476639</td>\n",
              "    </tr>\n",
              "    <tr>\n",
              "      <th>4</th>\n",
              "      <td>106.607327</td>\n",
              "    </tr>\n",
              "  </tbody>\n",
              "</table>\n",
              "</div>"
            ],
            "text/plain": [
              "   time_spent\n",
              "0  128.888641\n",
              "1  103.031109\n",
              "2  162.269379\n",
              "3  106.476639\n",
              "4  106.607327"
            ]
          },
          "metadata": {
            "tags": []
          },
          "execution_count": 105
        }
      ]
    },
    {
      "cell_type": "code",
      "metadata": {
        "colab": {
          "base_uri": "https://localhost:8080/",
          "height": 198
        },
        "id": "UCMITndEvADn",
        "outputId": "9429ccdd-d4c9-4f46-85d9-4ed6b702343e"
      },
      "source": [
        "subs1.head(n=5)"
      ],
      "execution_count": null,
      "outputs": [
        {
          "output_type": "execute_result",
          "data": {
            "text/html": [
              "<div>\n",
              "<style scoped>\n",
              "    .dataframe tbody tr th:only-of-type {\n",
              "        vertical-align: middle;\n",
              "    }\n",
              "\n",
              "    .dataframe tbody tr th {\n",
              "        vertical-align: top;\n",
              "    }\n",
              "\n",
              "    .dataframe thead th {\n",
              "        text-align: right;\n",
              "    }\n",
              "</style>\n",
              "<table border=\"1\" class=\"dataframe\">\n",
              "  <thead>\n",
              "    <tr style=\"text-align: right;\">\n",
              "      <th></th>\n",
              "      <th>time_spent</th>\n",
              "    </tr>\n",
              "  </thead>\n",
              "  <tbody>\n",
              "    <tr>\n",
              "      <th>0</th>\n",
              "      <td>164.588379</td>\n",
              "    </tr>\n",
              "    <tr>\n",
              "      <th>1</th>\n",
              "      <td>149.305389</td>\n",
              "    </tr>\n",
              "    <tr>\n",
              "      <th>2</th>\n",
              "      <td>170.198792</td>\n",
              "    </tr>\n",
              "    <tr>\n",
              "      <th>3</th>\n",
              "      <td>152.704208</td>\n",
              "    </tr>\n",
              "    <tr>\n",
              "      <th>4</th>\n",
              "      <td>158.373611</td>\n",
              "    </tr>\n",
              "  </tbody>\n",
              "</table>\n",
              "</div>"
            ],
            "text/plain": [
              "   time_spent\n",
              "0  164.588379\n",
              "1  149.305389\n",
              "2  170.198792\n",
              "3  152.704208\n",
              "4  158.373611"
            ]
          },
          "metadata": {
            "tags": []
          },
          "execution_count": 106
        }
      ]
    },
    {
      "cell_type": "code",
      "metadata": {
        "id": "29n7VAuvvEIT"
      },
      "source": [
        "avg_sum = subs1['time_spent']+subs2['time_spent']\r\n",
        "avg_sum = avg_sum/2"
      ],
      "execution_count": null,
      "outputs": []
    },
    {
      "cell_type": "code",
      "metadata": {
        "id": "glLvbenUvZt4"
      },
      "source": [
        "sub['time_spent'] = avg_sum\r\n",
        "sub.to_csv('blend.csv',index=False)"
      ],
      "execution_count": null,
      "outputs": []
    },
    {
      "cell_type": "code",
      "metadata": {
        "colab": {
          "base_uri": "https://localhost:8080/",
          "height": 34
        },
        "id": "dhHBoxP6vdBo",
        "outputId": "586234d7-accc-4822-f8e2-ad4ed5a50a14"
      },
      "source": [
        "import shutil,os\r\n",
        "shutil.copy('/content/best_weights_(cuurent_pytorch).bin','/content/drive/MyDrive/Regress/reg_problems')"
      ],
      "execution_count": null,
      "outputs": [
        {
          "output_type": "execute_result",
          "data": {
            "application/vnd.google.colaboratory.intrinsic+json": {
              "type": "string"
            },
            "text/plain": [
              "'/content/drive/MyDrive/Regress/reg_problems/best_weights_(cuurent_pytorch).bin'"
            ]
          },
          "metadata": {
            "tags": []
          },
          "execution_count": 91
        }
      ]
    },
    {
      "cell_type": "code",
      "metadata": {
        "colab": {
          "base_uri": "https://localhost:8080/",
          "height": 34
        },
        "id": "HYl8kNptwQNz",
        "outputId": "d5664fc0-a429-4237-dcf6-dbef5fcdeba5"
      },
      "source": [
        "shutil.copy('/content/normalized_weights.bin','/content/drive/MyDrive/Regress/reg_problems')"
      ],
      "execution_count": null,
      "outputs": [
        {
          "output_type": "execute_result",
          "data": {
            "application/vnd.google.colaboratory.intrinsic+json": {
              "type": "string"
            },
            "text/plain": [
              "'/content/drive/MyDrive/Regress/reg_problems/normalized_weights.bin'"
            ]
          },
          "metadata": {
            "tags": []
          },
          "execution_count": 162
        }
      ]
    },
    {
      "cell_type": "code",
      "metadata": {
        "id": "Nbu1m5gzwUkE"
      },
      "source": [
        "jok=[10,11,12,13,15,16,17,18,19,2,20,23,25,3,32,35,36,4,44,42,46,5,6,7,8,9]\r\n",
        "for i in jok:\r\n",
        "    os.remove(f'/content/best_weights{i}.bin')"
      ],
      "execution_count": null,
      "outputs": []
    },
    {
      "cell_type": "code",
      "metadata": {
        "id": "dTR-ZbWhwbk7"
      },
      "source": [
        ""
      ],
      "execution_count": null,
      "outputs": []
    }
  ]
}